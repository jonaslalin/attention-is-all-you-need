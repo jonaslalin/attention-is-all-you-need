{
  "nbformat": 4,
  "nbformat_minor": 0,
  "metadata": {
    "colab": {
      "name": "attention-is-all-you-need.ipynb",
      "provenance": [],
      "collapsed_sections": []
    },
    "kernelspec": {
      "display_name": "Python 3",
      "name": "python3"
    },
    "language_info": {
      "name": "python"
    }
  },
  "cells": [
    {
      "cell_type": "markdown",
      "metadata": {
        "id": "f7UBpQSLEg18"
      },
      "source": [
        "# Part 1 - Model"
      ]
    },
    {
      "cell_type": "code",
      "metadata": {
        "id": "q4mirQ1pzRP6"
      },
      "source": [
        "import matplotlib.pyplot as plt\n",
        "import tensorflow as tf"
      ],
      "execution_count": null,
      "outputs": []
    },
    {
      "cell_type": "code",
      "metadata": {
        "id": "y-X26h8KSAj3"
      },
      "source": [
        "random = tf.random.Generator.from_seed(1234)"
      ],
      "execution_count": null,
      "outputs": []
    },
    {
      "cell_type": "markdown",
      "metadata": {
        "id": "50J2hgyMlvus"
      },
      "source": [
        "## Embedding"
      ]
    },
    {
      "cell_type": "code",
      "metadata": {
        "id": "BnJqaRPQ4ptH"
      },
      "source": [
        "class Embedding(tf.keras.layers.Layer):\n",
        "\n",
        "    def __init__(self,\n",
        "                 d_model,\n",
        "                 vocab_size,\n",
        "                 name=\"embedding\",\n",
        "                 **kwargs):\n",
        "        super().__init__(name=name, **kwargs)\n",
        "        self.d_model = d_model\n",
        "        self.embedding = tf.keras.layers.Embedding(vocab_size,\n",
        "                                                   d_model,\n",
        "                                                   name=\"inner_embedding\")\n",
        "\n",
        "    @tf.function\n",
        "    def call(self, inputs):\n",
        "        \"\"\"\n",
        "        inputs: (batch_size, seq_len)\n",
        "\n",
        "        outputs: (batch_size, seq_len, d_model)\n",
        "        \"\"\"\n",
        "        outputs = tf.multiply(\n",
        "            self.embedding(inputs),\n",
        "            tf.sqrt(tf.cast(self.d_model, tf.float32))\n",
        "        )\n",
        "        return outputs"
      ],
      "execution_count": null,
      "outputs": []
    },
    {
      "cell_type": "code",
      "metadata": {
        "id": "02r2FxTcPTR9"
      },
      "source": [
        "def test_embedding():\n",
        "    embedding = Embedding(d_model=512, vocab_size=10000)\n",
        "    inputs = random.uniform((32, 100), maxval=10000, dtype=tf.int64)\n",
        "    outputs = embedding(inputs)\n",
        "\n",
        "    print(f\"inputs shape: {inputs.shape}\")\n",
        "    print(f\"outputs shape: {outputs.shape}\")"
      ],
      "execution_count": null,
      "outputs": []
    },
    {
      "cell_type": "code",
      "metadata": {
        "id": "ZB83tKu6QL-w",
        "colab": {
          "base_uri": "https://localhost:8080/"
        },
        "outputId": "018ae61a-81ef-4bf9-b259-7a9824f7d7f4"
      },
      "source": [
        "test_embedding()"
      ],
      "execution_count": null,
      "outputs": [
        {
          "output_type": "stream",
          "name": "stdout",
          "text": [
            "inputs shape: (32, 100)\n",
            "outputs shape: (32, 100, 512)\n"
          ]
        }
      ]
    },
    {
      "cell_type": "markdown",
      "metadata": {
        "id": "mm4qNPl4lzf6"
      },
      "source": [
        "## Positional Encoding"
      ]
    },
    {
      "cell_type": "code",
      "metadata": {
        "id": "PWyGvSI7lXbB"
      },
      "source": [
        "@tf.function\n",
        "def positional_encodings(seq_len, d_model):\n",
        "    # (seq_len,)\n",
        "    positions = tf.range(seq_len, dtype=tf.float32)\n",
        "    # (seq_len, 1)\n",
        "    positions = tf.expand_dims(positions, -1)\n",
        "    # (d_model,)\n",
        "    features = tf.range(d_model, dtype=tf.float32)\n",
        "    features = tf.floor(tf.divide(features, 2.0))\n",
        "    # (1, d_model)\n",
        "    features = tf.expand_dims(features, 0)\n",
        "    # (seq_len, d_model)\n",
        "    angles = tf.divide(\n",
        "        positions,\n",
        "        tf.pow(\n",
        "            10000.0,\n",
        "            tf.divide(\n",
        "                tf.multiply(2.0, features),\n",
        "                tf.cast(d_model, tf.float32)\n",
        "            )\n",
        "        )\n",
        "    )\n",
        "\n",
        "    even = tf.range(0, d_model, 2)\n",
        "    odd = tf.range(1, d_model, 2)\n",
        "\n",
        "    # (seq_len, d_model)\n",
        "    encodings = tf.transpose(\n",
        "        tf.dynamic_stitch(\n",
        "            (\n",
        "                even,\n",
        "                odd\n",
        "            ),\n",
        "            (\n",
        "                tf.sin(tf.gather(tf.transpose(angles), even)),\n",
        "                tf.cos(tf.gather(tf.transpose(angles), odd))\n",
        "            )\n",
        "        )\n",
        "    )\n",
        "    # (1, seq_len, d_model)\n",
        "    encodings = tf.expand_dims(encodings, 0)\n",
        "\n",
        "    return encodings"
      ],
      "execution_count": null,
      "outputs": []
    },
    {
      "cell_type": "code",
      "metadata": {
        "id": "9FP26qWFXtnV"
      },
      "source": [
        "def test_positional_encodings():\n",
        "    encodings = positional_encodings(seq_len=100, d_model=64)\n",
        "    encodings = tf.squeeze(encodings, 0)\n",
        "    encodings = tf.transpose(encodings)\n",
        "\n",
        "    plt.figure(figsize=(8, 6))\n",
        "    plt.imshow(encodings,\n",
        "               cmap=\"RdBu\",\n",
        "               interpolation=\"nearest\",\n",
        "               vmin=-1,\n",
        "               vmax=1)\n",
        "    plt.gca().invert_yaxis()\n",
        "    plt.xlabel(\"Position\", fontsize=\"large\")\n",
        "    plt.ylabel(\"Depth\", fontsize=\"large\")\n",
        "    plt.colorbar()\n",
        "    plt.savefig(\"encodings.svg\")"
      ],
      "execution_count": null,
      "outputs": []
    },
    {
      "cell_type": "code",
      "metadata": {
        "id": "PtDhw57OQb6J",
        "colab": {
          "base_uri": "https://localhost:8080/",
          "height": 367
        },
        "outputId": "6d10719c-5910-487f-bae6-df9eb21081e7"
      },
      "source": [
        "test_positional_encodings()"
      ],
      "execution_count": null,
      "outputs": [
        {
          "output_type": "display_data",
          "data": {
            "image/png": "[encoded data removed]",
            "text/plain": [
              "<Figure size 576x432 with 2 Axes>"
            ]
          },
          "metadata": {
            "needs_background": "light"
          }
        }
      ]
    },
    {
      "cell_type": "code",
      "metadata": {
        "id": "gRLjxncHDQO4"
      },
      "source": [
        "class PositionalEncodingLayer(tf.keras.layers.Layer):\n",
        "\n",
        "    def __init__(self,\n",
        "                 dropout_rate,\n",
        "                 name=\"positional_encoding_layer\",\n",
        "                 **kwargs):\n",
        "        super().__init__(name=name, **kwargs)\n",
        "        self.dropout = tf.keras.layers.Dropout(dropout_rate,\n",
        "                                               name=\"dropout\")\n",
        "\n",
        "    @tf.function\n",
        "    def call(self, inputs, training=False):\n",
        "        \"\"\"\n",
        "        inputs: (batch_size, seq_len, d_model)\n",
        "\n",
        "        outputs: (batch_size, seq_len, d_model)\n",
        "        \"\"\"\n",
        "        seq_len = tf.shape(inputs)[1]\n",
        "        d_model = tf.shape(inputs)[2]\n",
        "        encodings = positional_encodings(seq_len, d_model)\n",
        "        outputs = tf.add(inputs, encodings)\n",
        "        outputs = self.dropout(outputs, training)\n",
        "        return outputs"
      ],
      "execution_count": null,
      "outputs": []
    },
    {
      "cell_type": "code",
      "metadata": {
        "id": "YJjzvRyKUZZV"
      },
      "source": [
        "def test_positional_encoding_layer():\n",
        "    pe_layer = PositionalEncodingLayer(dropout_rate=0.1)\n",
        "    inputs = random.normal((32, 100, 512))\n",
        "    outputs = pe_layer(inputs)\n",
        "\n",
        "    print(f\"inputs shape: {inputs.shape}\")\n",
        "    print(f\"outputs shape: {outputs.shape}\")"
      ],
      "execution_count": null,
      "outputs": []
    },
    {
      "cell_type": "code",
      "metadata": {
        "id": "e8_Z0iFbQt_r",
        "colab": {
          "base_uri": "https://localhost:8080/"
        },
        "outputId": "b4667465-121d-4997-8937-3d236c7785f5"
      },
      "source": [
        "test_positional_encoding_layer()"
      ],
      "execution_count": null,
      "outputs": [
        {
          "output_type": "stream",
          "name": "stdout",
          "text": [
            "inputs shape: (32, 100, 512)\n",
            "outputs shape: (32, 100, 512)\n"
          ]
        }
      ]
    },
    {
      "cell_type": "markdown",
      "metadata": {
        "id": "vqQxm_GhmEpP"
      },
      "source": [
        "## Scaled Dot-Product Attention"
      ]
    },
    {
      "cell_type": "code",
      "metadata": {
        "id": "_vDUMg1-R-ik"
      },
      "source": [
        "@tf.function\n",
        "def scaled_dot_product_attention(queries, keys, values, mask=None):\n",
        "    \"\"\"\n",
        "    queries: (..., seq_len_q, d_k)\n",
        "    keys: (..., seq_len_k, d_k)\n",
        "    values: (..., seq_len_k, d_v)\n",
        "    mask: (..., seq_len_q, seq_len_k)\n",
        "\n",
        "    attn: (..., seq_len_q, d_v)\n",
        "    attn_weights: (..., seq_len_q, seq_len_k)\n",
        "    \"\"\"\n",
        "    d_k = tf.shape(keys)[-1]\n",
        "    logits = tf.divide(\n",
        "        tf.matmul(queries, keys, transpose_b=True),\n",
        "        tf.sqrt(tf.cast(d_k, tf.float32))\n",
        "    )\n",
        "    if mask is not None:\n",
        "        logits = tf.subtract(logits, tf.multiply(mask, 1e9))\n",
        "    attn_weights = tf.nn.softmax(logits)\n",
        "    attn = tf.matmul(attn_weights, values)\n",
        "    return attn, attn_weights"
      ],
      "execution_count": null,
      "outputs": []
    },
    {
      "cell_type": "code",
      "metadata": {
        "id": "GdGoDLgYnLOm"
      },
      "source": [
        "def test_scaled_dot_product_attention():\n",
        "\n",
        "    def test_queries(queries):\n",
        "        keys = tf.constant([[10, 0, 0],\n",
        "                            [0, 10, 0],\n",
        "                            [0, 0, 10],\n",
        "                            [0, 0, 10]],\n",
        "                           tf.float32)\n",
        "        values = tf.constant([[1, 0],\n",
        "                              [10, 0],\n",
        "                              [100, 5],\n",
        "                              [1000, 6]],\n",
        "                             tf.float32)\n",
        "        attn, attn_weights = scaled_dot_product_attention(queries,\n",
        "                                                          keys,\n",
        "                                                          values)\n",
        "\n",
        "        print(f\"attn:\\n{attn}\")\n",
        "        print(f\"attn_weights:\\n{attn_weights}\\n\")\n",
        "\n",
        "    # The query aligns with the second key,\n",
        "    # so the second value is returned.\n",
        "    queries = tf.constant([[0, 10, 0]], tf.float32)\n",
        "    test_queries(queries)\n",
        "\n",
        "    # The query aligns with a repeated key (third and fourth),\n",
        "    # so all associated values get averaged.\n",
        "    queries = tf.constant([[0, 0, 10]], tf.float32)\n",
        "    test_queries(queries)\n",
        "\n",
        "    # The query aligns equally with the first and second key,\n",
        "    # so their values get averaged.\n",
        "    queries = tf.constant([[10, 10, 0]], tf.float32)\n",
        "    test_queries(queries)\n",
        "\n",
        "    # Pass all the queries together.\n",
        "    queries = tf.constant([[0, 10, 0],\n",
        "                           [0, 0, 10],\n",
        "                           [10, 10, 0]],\n",
        "                          tf.float32)\n",
        "    test_queries(queries)"
      ],
      "execution_count": null,
      "outputs": []
    },
    {
      "cell_type": "code",
      "metadata": {
        "id": "4-gpWMYrSdwP",
        "colab": {
          "base_uri": "https://localhost:8080/"
        },
        "outputId": "37dd0513-4133-40f5-bf4f-e7e11833f9cd"
      },
      "source": [
        "test_scaled_dot_product_attention()"
      ],
      "execution_count": null,
      "outputs": [
        {
          "output_type": "stream",
          "name": "stdout",
          "text": [
            "attn:\n",
            "[[1.000000e+01 9.276601e-25]]\n",
            "attn_weights:\n",
            "[[8.433274e-26 1.000000e+00 8.433274e-26 8.433274e-26]]\n",
            "\n",
            "attn:\n",
            "[[550.    5.5]]\n",
            "attn_weights:\n",
            "[[4.216637e-26 4.216637e-26 5.000000e-01 5.000000e-01]]\n",
            "\n",
            "attn:\n",
            "[[5.5000000e+00 4.6383005e-25]]\n",
            "attn_weights:\n",
            "[[5.000000e-01 5.000000e-01 4.216637e-26 4.216637e-26]]\n",
            "\n",
            "attn:\n",
            "[[1.0000000e+01 9.2766009e-25]\n",
            " [5.5000000e+02 5.5000000e+00]\n",
            " [5.5000000e+00 4.6383005e-25]]\n",
            "attn_weights:\n",
            "[[8.433274e-26 1.000000e+00 8.433274e-26 8.433274e-26]\n",
            " [4.216637e-26 4.216637e-26 5.000000e-01 5.000000e-01]\n",
            " [5.000000e-01 5.000000e-01 4.216637e-26 4.216637e-26]]\n",
            "\n"
          ]
        }
      ]
    },
    {
      "cell_type": "markdown",
      "metadata": {
        "id": "kABuRo6UndJ5"
      },
      "source": [
        "## Multi-Head Attention"
      ]
    },
    {
      "cell_type": "code",
      "metadata": {
        "id": "gAOCpIHG3lxk"
      },
      "source": [
        "class MultiHeadAttention(tf.keras.layers.Layer):\n",
        "\n",
        "    def __init__(self,\n",
        "                 d_model,\n",
        "                 h,\n",
        "                 d_k,\n",
        "                 d_v,\n",
        "                 name=\"multi_head_attention\",\n",
        "                 **kwargs):\n",
        "        super().__init__(name=name, **kwargs)\n",
        "        self.h = h\n",
        "        self.d_k = d_k\n",
        "        self.d_v = d_v\n",
        "\n",
        "        self.W_q = tf.keras.layers.Dense(self.h * self.d_k,\n",
        "                                         use_bias=False,\n",
        "                                         name=\"W_q\")\n",
        "        self.W_k = tf.keras.layers.Dense(self.h * self.d_k,\n",
        "                                         use_bias=False,\n",
        "                                         name=\"W_k\")\n",
        "        self.W_v = tf.keras.layers.Dense(self.h * self.d_v,\n",
        "                                         use_bias=False,\n",
        "                                         name=\"W_v\")\n",
        "        self.W_o = tf.keras.layers.Dense(d_model,\n",
        "                                         use_bias=False,\n",
        "                                         name=\"W_o\")\n",
        "    \n",
        "    @tf.function\n",
        "    def call(self, queries, keys, values, mask=None):\n",
        "        \"\"\"\n",
        "        queries: (batch_size, seq_len_q, d_model)\n",
        "        keys: (batch_size, seq_len_k, d_model)\n",
        "        values: (batch_size, seq_len_k, d_model)\n",
        "\n",
        "        attn: (batch_size, seq_len_q, d_model)\n",
        "        attn_weights: (batch_size, h, seq_len_q, seq_len_k)\n",
        "        \"\"\"\n",
        "        # (batch_size, seq_len_q, h * d_k)\n",
        "        queries = self.W_q(queries)\n",
        "        # (batch_size, seq_len_k, h * d_k)\n",
        "        keys = self.W_k(keys)\n",
        "        # (batch_size, seq_len_k, h * d_v)\n",
        "        values = self.W_v(values)\n",
        "\n",
        "        # (batch_size, h, seq_len_q, d_k)\n",
        "        queries = self.split_heads(queries, self.d_k)\n",
        "        # (batch_size, h, seq_len_k, d_k)\n",
        "        keys = self.split_heads(keys, self.d_k)\n",
        "        # (batch_size, h, seq_len_k, d_v)\n",
        "        values = self.split_heads(values, self.d_v)\n",
        "\n",
        "        # (batch_size, h, seq_len_q, d_v)\n",
        "        attn, attn_weights = scaled_dot_product_attention(queries,\n",
        "                                                          keys,\n",
        "                                                          values,\n",
        "                                                          mask)\n",
        "        # (batch_size, seq_len_q, h * d_v)\n",
        "        attn = self.concat_heads(attn, self.d_v)\n",
        "        # (batch_size, seq_len_q, d_model)\n",
        "        attn = self.W_o(attn)\n",
        "\n",
        "        return attn, attn_weights\n",
        "\n",
        "    @tf.function\n",
        "    def split_heads(self, inputs, depth):\n",
        "        \"\"\"\n",
        "        inputs: (batch_size, seq_len, h * depth)\n",
        "\n",
        "        outputs: (batch_size, h, seq_len, depth)\n",
        "        \"\"\"\n",
        "        batch_size = tf.shape(inputs)[0]\n",
        "        seq_len = tf.shape(inputs)[1]\n",
        "        # (batch_size, seq_len, h, depth)\n",
        "        outputs = tf.reshape(inputs, (batch_size,\n",
        "                                      seq_len,\n",
        "                                      self.h,\n",
        "                                      depth))\n",
        "        # (batch_size, h, seq_len, depth)\n",
        "        outputs = tf.transpose(outputs, (0, 2, 1, 3))\n",
        "        return outputs\n",
        "\n",
        "    @tf.function\n",
        "    def concat_heads(self, inputs, depth):\n",
        "        \"\"\"\n",
        "        inputs: (batch_size, h, seq_len, depth)\n",
        "\n",
        "        outputs: (batch_size, seq_len, h * depth)\n",
        "        \"\"\"\n",
        "        batch_size = tf.shape(inputs)[0]\n",
        "        seq_len = tf.shape(inputs)[2]\n",
        "        # (batch_size, seq_len, h, depth)\n",
        "        outputs = tf.transpose(inputs, (0, 2, 1, 3))\n",
        "        # (batch_size, seq_len, h * depth)\n",
        "        outputs = tf.reshape(outputs, (batch_size,\n",
        "                                       seq_len,\n",
        "                                       self.h * depth))\n",
        "        return outputs"
      ],
      "execution_count": null,
      "outputs": []
    },
    {
      "cell_type": "code",
      "metadata": {
        "id": "P8-m3xWh52mn"
      },
      "source": [
        "def test_multi_head_attention():\n",
        "    mha = MultiHeadAttention(d_model=512, h=8, d_k=64, d_v=64)\n",
        "\n",
        "    def test_qkv(queries, keys, values):\n",
        "        attn, attn_weights = mha(queries, keys, values)\n",
        "\n",
        "        print(f\"queries shape: {queries.shape}\")\n",
        "        print(f\"keys shape: {keys.shape}\")\n",
        "        print(f\"values shape: {values.shape}\")\n",
        "        print(f\"attn shape: {attn.shape}\")\n",
        "        print(f\"attn_weights shape: {attn_weights.shape}\\n\")\n",
        "\n",
        "    queries = random.normal((32, 100, 512))\n",
        "    keys = queries\n",
        "    values = keys\n",
        "    test_qkv(queries, keys, values)\n",
        "\n",
        "    queries = random.normal((32, 100, 512))\n",
        "    keys = random.normal((32, 200, 512))\n",
        "    values = keys\n",
        "    test_qkv(queries, keys, values)"
      ],
      "execution_count": null,
      "outputs": []
    },
    {
      "cell_type": "code",
      "metadata": {
        "id": "GNDB5XhJVISq",
        "colab": {
          "base_uri": "https://localhost:8080/"
        },
        "outputId": "77b8aa8b-d4db-4107-b0a8-0238efe5cdeb"
      },
      "source": [
        "test_multi_head_attention()"
      ],
      "execution_count": null,
      "outputs": [
        {
          "output_type": "stream",
          "name": "stdout",
          "text": [
            "queries shape: (32, 100, 512)\n",
            "keys shape: (32, 100, 512)\n",
            "values shape: (32, 100, 512)\n",
            "attn shape: (32, 100, 512)\n",
            "attn_weights shape: (32, 8, 100, 100)\n",
            "\n",
            "queries shape: (32, 100, 512)\n",
            "keys shape: (32, 200, 512)\n",
            "values shape: (32, 200, 512)\n",
            "attn shape: (32, 100, 512)\n",
            "attn_weights shape: (32, 8, 100, 200)\n",
            "\n"
          ]
        }
      ]
    },
    {
      "cell_type": "markdown",
      "metadata": {
        "id": "7IJtG1cypz4Q"
      },
      "source": [
        "## Position-wise Feed-Forward Network"
      ]
    },
    {
      "cell_type": "code",
      "metadata": {
        "id": "XuvVDar2L0Bm"
      },
      "source": [
        "class PositionWiseFeedForwardNetwork(tf.keras.layers.Layer):\n",
        "\n",
        "    def __init__(self,\n",
        "                 d_model,\n",
        "                 d_ff,\n",
        "                 name=\"position_wise_feed_forward_network\",\n",
        "                 **kwargs):\n",
        "        super().__init__(name=name, **kwargs)\n",
        "        self.W_1 = tf.keras.layers.Dense(d_ff, \"relu\", name=\"W_1\")\n",
        "        self.W_2 = tf.keras.layers.Dense(d_model, name=\"W_2\")\n",
        "\n",
        "    @tf.function\n",
        "    def call(self, inputs):\n",
        "        \"\"\"\n",
        "        inputs: (batch_size, seq_len, d_model)\n",
        "\n",
        "        outputs: (batch_size, seq_len, d_model)\n",
        "        \"\"\"\n",
        "        outputs = self.W_1(inputs)\n",
        "        outputs = self.W_2(outputs)\n",
        "        return outputs"
      ],
      "execution_count": null,
      "outputs": []
    },
    {
      "cell_type": "code",
      "metadata": {
        "id": "yNs0PCqXCHRZ"
      },
      "source": [
        "def test_position_wise_feed_forward_network():\n",
        "    ffn = PositionWiseFeedForwardNetwork(d_model=512, d_ff=2048)\n",
        "    inputs = random.normal((32, 100, 512))\n",
        "    outputs = ffn(inputs)\n",
        "\n",
        "    print(f\"inputs shape: {inputs.shape}\")\n",
        "    print(f\"outputs shape: {outputs.shape}\")"
      ],
      "execution_count": null,
      "outputs": []
    },
    {
      "cell_type": "code",
      "metadata": {
        "id": "wncVS1aHV1J6",
        "colab": {
          "base_uri": "https://localhost:8080/"
        },
        "outputId": "4eb60f76-80e3-47cc-f8a1-394f2d9da840"
      },
      "source": [
        "test_position_wise_feed_forward_network()"
      ],
      "execution_count": null,
      "outputs": [
        {
          "output_type": "stream",
          "name": "stdout",
          "text": [
            "inputs shape: (32, 100, 512)\n",
            "outputs shape: (32, 100, 512)\n"
          ]
        }
      ]
    },
    {
      "cell_type": "markdown",
      "metadata": {
        "id": "a_IXKlgfqtSW"
      },
      "source": [
        "## Residual Connection"
      ]
    },
    {
      "cell_type": "code",
      "metadata": {
        "id": "YLwdl_ovjIeq"
      },
      "source": [
        "class ResidualConnection(tf.keras.layers.Layer):\n",
        "\n",
        "    def __init__(self,\n",
        "                 dropout_rate,\n",
        "                 name=\"residual_connection\",\n",
        "                 **kwargs):\n",
        "        super().__init__(name=name, **kwargs)\n",
        "        self.dropout = tf.keras.layers.Dropout(dropout_rate,\n",
        "                                               name=\"dropout\")\n",
        "        self.norm = tf.keras.layers.LayerNormalization(\n",
        "            name=\"layer_normalization\"\n",
        "        )\n",
        "\n",
        "    @tf.function\n",
        "    def call(self, x, sublayer, training=False):\n",
        "        \"\"\"\n",
        "        x: (batch_size, seq_len, d_model)\n",
        "        sublayer: (batch_size, seq_len, d_model)\n",
        "\n",
        "        outputs: (batch_size, seq_len, d_model)\n",
        "        \"\"\"\n",
        "        outputs = self.dropout(sublayer, training)\n",
        "        outputs = self.norm(tf.add(x, outputs))\n",
        "        return outputs"
      ],
      "execution_count": null,
      "outputs": []
    },
    {
      "cell_type": "code",
      "metadata": {
        "id": "xl68WJoKDRfz"
      },
      "source": [
        "def test_residual_connection():\n",
        "    shortcut = ResidualConnection(dropout_rate=0.1)\n",
        "    x = random.normal((32, 100, 512))\n",
        "    sublayer = random.normal((32, 100, 512))\n",
        "    outputs = shortcut(x, sublayer)\n",
        "\n",
        "    print(f\"x shape: {x.shape}\")\n",
        "    print(f\"sublayer shape: {sublayer.shape}\")\n",
        "    print(f\"outputs shape: {outputs.shape}\")"
      ],
      "execution_count": null,
      "outputs": []
    },
    {
      "cell_type": "code",
      "metadata": {
        "id": "U0o6a8UbTc2j",
        "colab": {
          "base_uri": "https://localhost:8080/"
        },
        "outputId": "73006c3e-b93d-41b8-ac4d-5b57c2917fd1"
      },
      "source": [
        "test_residual_connection()"
      ],
      "execution_count": null,
      "outputs": [
        {
          "output_type": "stream",
          "name": "stdout",
          "text": [
            "x shape: (32, 100, 512)\n",
            "sublayer shape: (32, 100, 512)\n",
            "outputs shape: (32, 100, 512)\n"
          ]
        }
      ]
    },
    {
      "cell_type": "markdown",
      "metadata": {
        "id": "H-SO_L8csKQG"
      },
      "source": [
        "## Encoder"
      ]
    },
    {
      "cell_type": "code",
      "metadata": {
        "id": "SYzc37OVlzip"
      },
      "source": [
        "class EncoderLayer(tf.keras.layers.Layer):\n",
        "\n",
        "    def __init__(self,\n",
        "                 d_model,\n",
        "                 h,\n",
        "                 d_k,\n",
        "                 d_v,\n",
        "                 d_ff,\n",
        "                 dropout_rate,\n",
        "                 name=\"encoder_layer\",\n",
        "                 **kwargs):\n",
        "        super().__init__(name=name, **kwargs)\n",
        "        self.block_1_mha = MultiHeadAttention(\n",
        "            d_model,\n",
        "            h,\n",
        "            d_k,\n",
        "            d_v,\n",
        "            name=\"block_1_multi_head_attention\"\n",
        "        )\n",
        "        self.block_1_shortcut = ResidualConnection(\n",
        "            dropout_rate,\n",
        "            name=\"block_1_residual_connection\"\n",
        "        )\n",
        "        self.block_2_ffn = PositionWiseFeedForwardNetwork(\n",
        "            d_model,\n",
        "            d_ff,\n",
        "            name=\"block_2_position_wise_feed_forward_network\"\n",
        "        )\n",
        "        self.block_2_shortcut = ResidualConnection(\n",
        "            dropout_rate,\n",
        "            name=\"block_2_residual_connection\"\n",
        "        )\n",
        "\n",
        "    @tf.function\n",
        "    def call(self, inputs, training=False, block_1_mask=None):\n",
        "        \"\"\"\n",
        "        inputs: (batch_size, seq_len, d_model)\n",
        "\n",
        "        outputs: (batch_size, seq_len, d_model)\n",
        "        block_1_attn_weights: (batch_size, h, seq_len, seq_len)\n",
        "        \"\"\"\n",
        "        (block_1_attn,\n",
        "         block_1_attn_weights) = self.block_1_mha(queries=inputs,\n",
        "                                                  keys=inputs,\n",
        "                                                  values=inputs,\n",
        "                                                  mask=block_1_mask)\n",
        "        block_1_attn = self.block_1_shortcut(x=inputs,\n",
        "                                             sublayer=block_1_attn,\n",
        "                                             training=training)\n",
        "\n",
        "        block_2_proj = self.block_2_ffn(block_1_attn)\n",
        "        block_2_proj = self.block_2_shortcut(x=block_1_attn,\n",
        "                                             sublayer=block_2_proj,\n",
        "                                             training=training)\n",
        "\n",
        "        outputs = block_2_proj\n",
        "\n",
        "        return outputs, block_1_attn_weights"
      ],
      "execution_count": null,
      "outputs": []
    },
    {
      "cell_type": "code",
      "metadata": {
        "id": "9WXUxgVsEyS8"
      },
      "source": [
        "def test_encoder_layer():\n",
        "    enc_layer = EncoderLayer(d_model=512,\n",
        "                             h=8,\n",
        "                             d_k=64,\n",
        "                             d_v=64,\n",
        "                             d_ff=2048,\n",
        "                             dropout_rate=0.1)\n",
        "    inputs = random.normal((32, 100, 512))\n",
        "    outputs, block_1_attn_weights = enc_layer(inputs)\n",
        "\n",
        "    print(f\"inputs shape: {inputs.shape}\")\n",
        "    print(f\"outputs shape: {outputs.shape}\")\n",
        "    print(f\"block_1_attn_weights shape: {block_1_attn_weights.shape}\")"
      ],
      "execution_count": null,
      "outputs": []
    },
    {
      "cell_type": "code",
      "metadata": {
        "id": "z0qrsBaFXtRX",
        "colab": {
          "base_uri": "https://localhost:8080/"
        },
        "outputId": "ebc5a8af-5656-4d1f-ba47-a79f83b7900a"
      },
      "source": [
        "test_encoder_layer()"
      ],
      "execution_count": null,
      "outputs": [
        {
          "output_type": "stream",
          "name": "stdout",
          "text": [
            "inputs shape: (32, 100, 512)\n",
            "outputs shape: (32, 100, 512)\n",
            "block_1_attn_weights shape: (32, 8, 100, 100)\n"
          ]
        }
      ]
    },
    {
      "cell_type": "code",
      "metadata": {
        "id": "vNg6f4Uawl-4"
      },
      "source": [
        "class Encoder(tf.keras.layers.Layer):\n",
        "\n",
        "    def __init__(self,\n",
        "                 d_model,\n",
        "                 vocab_size,\n",
        "                 N,\n",
        "                 h,\n",
        "                 d_k,\n",
        "                 d_v,\n",
        "                 d_ff,\n",
        "                 dropout_rate,\n",
        "                 name=\"encoder\",\n",
        "                 **kwargs):\n",
        "        super().__init__(name=name, **kwargs)\n",
        "        self.N = N\n",
        "        self.embedding = Embedding(d_model, vocab_size)\n",
        "        self.pe_layer = PositionalEncodingLayer(dropout_rate)\n",
        "        self.enc_layers = [EncoderLayer(d_model,\n",
        "                                        h,\n",
        "                                        d_k,\n",
        "                                        d_v,\n",
        "                                        d_ff,\n",
        "                                        dropout_rate,\n",
        "                                        name=f\"encoder_layer_{i + 1}\")\n",
        "                           for i in range(N)]\n",
        "\n",
        "    @tf.function\n",
        "    def call(self, inputs, training=False, block_1_mask=None):\n",
        "        \"\"\"\n",
        "        inputs: (batch_size, seq_len)\n",
        "\n",
        "        outputs: (batch_size, seq_len, d_model)\n",
        "        block_1_attn_weights: (N, batch_size, h, seq_len, seq_len)\n",
        "        \"\"\"\n",
        "        outputs = self.embedding(inputs)\n",
        "        outputs = self.pe_layer(outputs, training)\n",
        "\n",
        "        block_1_attn_weights = tf.TensorArray(tf.float32, self.N)\n",
        "        for i in range(self.N):\n",
        "            (outputs,\n",
        "             block_1_attn_weights_) = self.enc_layers[i](outputs,\n",
        "                                                         training,\n",
        "                                                         block_1_mask)\n",
        "            block_1_attn_weights = \\\n",
        "                block_1_attn_weights.write(i, block_1_attn_weights_)\n",
        "        block_1_attn_weights = block_1_attn_weights.stack()\n",
        "\n",
        "        return outputs, block_1_attn_weights"
      ],
      "execution_count": null,
      "outputs": []
    },
    {
      "cell_type": "code",
      "metadata": {
        "id": "HWWNHiLmGqdg"
      },
      "source": [
        "def test_encoder():\n",
        "    encoder = Encoder(d_model=512,\n",
        "                      vocab_size=10000,\n",
        "                      N=6,\n",
        "                      h=8,\n",
        "                      d_k=64,\n",
        "                      d_v=64,\n",
        "                      d_ff=2048,\n",
        "                      dropout_rate=0.1)\n",
        "    inputs = random.uniform((32, 100), maxval=10000, dtype=tf.int64)\n",
        "    outputs, block_1_attn_weights = encoder(inputs)\n",
        "\n",
        "    print(f\"inputs shape: {inputs.shape}\")\n",
        "    print(f\"outputs shape: {outputs.shape}\")\n",
        "    print(f\"block_1_attn_weights shape: {block_1_attn_weights.shape}\")"
      ],
      "execution_count": null,
      "outputs": []
    },
    {
      "cell_type": "code",
      "metadata": {
        "id": "S_T7QyaHYKTN",
        "colab": {
          "base_uri": "https://localhost:8080/"
        },
        "outputId": "369928a1-f1be-47f8-a59f-f95350f951d9"
      },
      "source": [
        "test_encoder()"
      ],
      "execution_count": null,
      "outputs": [
        {
          "output_type": "stream",
          "name": "stdout",
          "text": [
            "inputs shape: (32, 100)\n",
            "outputs shape: (32, 100, 512)\n",
            "block_1_attn_weights shape: (6, 32, 8, 100, 100)\n"
          ]
        }
      ]
    },
    {
      "cell_type": "markdown",
      "metadata": {
        "id": "8ss8vm7KFV03"
      },
      "source": [
        "## Decoder"
      ]
    },
    {
      "cell_type": "code",
      "metadata": {
        "id": "yHsvG17m9Rnw"
      },
      "source": [
        "class DecoderLayer(tf.keras.layers.Layer):\n",
        "\n",
        "    def __init__(self,\n",
        "                 d_model,\n",
        "                 h,\n",
        "                 d_k,\n",
        "                 d_v,\n",
        "                 d_ff,\n",
        "                 dropout_rate,\n",
        "                 name=\"decoder_layer\",\n",
        "                 **kwargs):\n",
        "        super().__init__(name=name, **kwargs)\n",
        "        self.block_1_mha = MultiHeadAttention(\n",
        "            d_model,\n",
        "            h,\n",
        "            d_k,\n",
        "            d_v,\n",
        "            name=\"block_1_multi_head_attention\"\n",
        "        )\n",
        "        self.block_1_shortcut = ResidualConnection(\n",
        "            dropout_rate,\n",
        "            name=\"block_1_residual_connection\"\n",
        "        )\n",
        "        self.block_2_mha = MultiHeadAttention(\n",
        "            d_model,\n",
        "            h,\n",
        "            d_k,\n",
        "            d_v,\n",
        "            name=\"block_2_multi_head_attention\"\n",
        "        )\n",
        "        self.block_2_shortcut = ResidualConnection(\n",
        "            dropout_rate,\n",
        "            name=\"block_2_residual_connection\"\n",
        "        )\n",
        "        self.block_3_ffn = PositionWiseFeedForwardNetwork(\n",
        "            d_model,\n",
        "            d_ff,\n",
        "            name=\"block_3_position_wise_feed_forward_network\"\n",
        "        )\n",
        "        self.block_3_shortcut = ResidualConnection(\n",
        "            dropout_rate,\n",
        "            name=\"block_3_residual_connection\"\n",
        "        )\n",
        "\n",
        "    @tf.function\n",
        "    def call(self,\n",
        "             inputs,\n",
        "             enc_outputs,\n",
        "             training=False,\n",
        "             block_1_mask=None,\n",
        "             block_2_mask=None):\n",
        "        \"\"\"\n",
        "        inputs: (batch_size, seq_len_dec, d_model)\n",
        "        enc_outputs: (batch_size, seq_len_enc, d_model)\n",
        "\n",
        "        outputs: (batch_size, seq_len_dec, d_model)\n",
        "        block_1_attn_weights:\n",
        "            (batch_size, h, seq_len_dec, seq_len_dec)\n",
        "        block_2_attn_weights:\n",
        "            (batch_size, h, seq_len_dec, seq_len_enc)\n",
        "        \"\"\"\n",
        "        (block_1_attn,\n",
        "         block_1_attn_weights) = self.block_1_mha(queries=inputs,\n",
        "                                                  keys=inputs,\n",
        "                                                  values=inputs,\n",
        "                                                  mask=block_1_mask)\n",
        "        block_1_attn = self.block_1_shortcut(x=inputs,\n",
        "                                             sublayer=block_1_attn,\n",
        "                                             training=training)\n",
        "\n",
        "        (block_2_attn,\n",
        "         block_2_attn_weights) = self.block_2_mha(queries=block_1_attn,\n",
        "                                                  keys=enc_outputs,\n",
        "                                                  values=enc_outputs,\n",
        "                                                  mask=block_2_mask)\n",
        "        block_2_attn = self.block_2_shortcut(x=block_1_attn,\n",
        "                                             sublayer=block_2_attn,\n",
        "                                             training=training)\n",
        "\n",
        "        block_3_proj = self.block_3_ffn(block_2_attn)\n",
        "        block_3_proj = self.block_3_shortcut(x=block_2_attn,\n",
        "                                             sublayer=block_3_proj,\n",
        "                                             training=training)\n",
        "\n",
        "        outputs = block_3_proj\n",
        "\n",
        "        return (outputs, block_1_attn_weights,\n",
        "                         block_2_attn_weights)"
      ],
      "execution_count": null,
      "outputs": []
    },
    {
      "cell_type": "code",
      "metadata": {
        "id": "G_r4H7dey1Vh"
      },
      "source": [
        "def test_decoder_layer():\n",
        "    dec_layer = DecoderLayer(d_model=512,\n",
        "                             h=8,\n",
        "                             d_k=64,\n",
        "                             d_v=64,\n",
        "                             d_ff=2048,\n",
        "                             dropout_rate=0.1)\n",
        "    inputs = random.normal((32, 100, 512))\n",
        "    enc_outputs = random.normal((32, 200, 512))\n",
        "    (outputs,\n",
        "     block_1_attn_weights,\n",
        "     block_2_attn_weights) = dec_layer(inputs, enc_outputs)\n",
        "\n",
        "    print(f\"inputs shape: {inputs.shape}\")\n",
        "    print(f\"enc_outputs shape: {enc_outputs.shape}\")\n",
        "    print(f\"outputs shape: {outputs.shape}\")\n",
        "    print(f\"block_1_attn_weights shape: {block_1_attn_weights.shape}\")\n",
        "    print(f\"block_2_attn_weights shape: {block_2_attn_weights.shape}\")"
      ],
      "execution_count": null,
      "outputs": []
    },
    {
      "cell_type": "code",
      "metadata": {
        "id": "Wb_Fz8lDYqTQ",
        "colab": {
          "base_uri": "https://localhost:8080/"
        },
        "outputId": "dadfb7fd-25b0-4e84-e91a-ecb6e1adb257"
      },
      "source": [
        "test_decoder_layer()"
      ],
      "execution_count": null,
      "outputs": [
        {
          "output_type": "stream",
          "name": "stdout",
          "text": [
            "inputs shape: (32, 100, 512)\n",
            "enc_outputs shape: (32, 200, 512)\n",
            "outputs shape: (32, 100, 512)\n",
            "block_1_attn_weights shape: (32, 8, 100, 100)\n",
            "block_2_attn_weights shape: (32, 8, 100, 200)\n"
          ]
        }
      ]
    },
    {
      "cell_type": "code",
      "metadata": {
        "id": "jU8Rhd6KJeqJ"
      },
      "source": [
        "class Decoder(tf.keras.layers.Layer):\n",
        "\n",
        "    def __init__(self,\n",
        "                 d_model,\n",
        "                 vocab_size,\n",
        "                 N,\n",
        "                 h,\n",
        "                 d_k,\n",
        "                 d_v,\n",
        "                 d_ff,\n",
        "                 dropout_rate,\n",
        "                 name=\"decoder\",\n",
        "                 **kwargs):\n",
        "        super().__init__(name=name, **kwargs)\n",
        "        self.N = N\n",
        "        self.embedding = Embedding(d_model, vocab_size)\n",
        "        self.pe_layer = PositionalEncodingLayer(dropout_rate)\n",
        "        self.dec_layers = [DecoderLayer(d_model,\n",
        "                                        h,\n",
        "                                        d_k,\n",
        "                                        d_v,\n",
        "                                        d_ff,\n",
        "                                        dropout_rate,\n",
        "                                        name=f\"decoder_layer_{i + 1}\")\n",
        "                           for i in range(N)]\n",
        "\n",
        "    @tf.function\n",
        "    def call(self,\n",
        "             inputs,\n",
        "             enc_outputs,\n",
        "             training=False,\n",
        "             block_1_mask=None,\n",
        "             block_2_mask=None):\n",
        "        \"\"\"\n",
        "        inputs: (batch_size, seq_len_dec)\n",
        "        enc_outputs: (batch_size, seq_len_enc, d_model)\n",
        "\n",
        "        outputs: (batch_size, seq_len_dec, d_model)\n",
        "        block_1_attn_weights:\n",
        "            (N, batch_size, h, seq_len_dec, seq_len_dec)\n",
        "        block_2_attn_weights:\n",
        "            (N, batch_size, h, seq_len_dec, seq_len_enc)\n",
        "        \"\"\"\n",
        "        outputs = self.embedding(inputs)\n",
        "        outputs = self.pe_layer(outputs, training)\n",
        "\n",
        "        block_1_attn_weights = tf.TensorArray(tf.float32, self.N)\n",
        "        block_2_attn_weights = tf.TensorArray(tf.float32, self.N)\n",
        "        for i in range(self.N):\n",
        "            (outputs,\n",
        "             block_1_attn_weights_,\n",
        "             block_2_attn_weights_) = self.dec_layers[i](outputs,\n",
        "                                                         enc_outputs,\n",
        "                                                         training,\n",
        "                                                         block_1_mask,\n",
        "                                                         block_2_mask)\n",
        "            block_1_attn_weights = \\\n",
        "                block_1_attn_weights.write(i, block_1_attn_weights_)\n",
        "            block_2_attn_weights = \\\n",
        "                block_2_attn_weights.write(i, block_2_attn_weights_)\n",
        "        block_1_attn_weights = block_1_attn_weights.stack()\n",
        "        block_2_attn_weights = block_2_attn_weights.stack()\n",
        "\n",
        "        return (outputs, block_1_attn_weights,\n",
        "                         block_2_attn_weights)"
      ],
      "execution_count": null,
      "outputs": []
    },
    {
      "cell_type": "code",
      "metadata": {
        "id": "pstm_RgOJiFR"
      },
      "source": [
        "def test_decoder():\n",
        "    decoder = Decoder(d_model=512,\n",
        "                      vocab_size=10000,\n",
        "                      N=6,\n",
        "                      h=8,\n",
        "                      d_k=64,\n",
        "                      d_v=64,\n",
        "                      d_ff=2048,\n",
        "                      dropout_rate=0.1)\n",
        "    inputs = random.uniform((32, 100), maxval=10000, dtype=tf.int64)\n",
        "    enc_outputs = random.normal((32, 200, 512))\n",
        "    (outputs,\n",
        "     block_1_attn_weights,\n",
        "     block_2_attn_weights) = decoder(inputs, enc_outputs)\n",
        "\n",
        "    print(f\"inputs shape: {inputs.shape}\")\n",
        "    print(f\"enc_outputs shape: {enc_outputs.shape}\")\n",
        "    print(f\"outputs shape: {outputs.shape}\")\n",
        "    print(f\"block_1_attn_weights shape: {block_1_attn_weights.shape}\")\n",
        "    print(f\"block_2_attn_weights shape: {block_2_attn_weights.shape}\")"
      ],
      "execution_count": null,
      "outputs": []
    },
    {
      "cell_type": "code",
      "metadata": {
        "id": "-5WLRqVmZAly",
        "colab": {
          "base_uri": "https://localhost:8080/"
        },
        "outputId": "b38ba467-7666-4d4e-b485-8bc030e3af2e"
      },
      "source": [
        "test_decoder()"
      ],
      "execution_count": null,
      "outputs": [
        {
          "output_type": "stream",
          "name": "stdout",
          "text": [
            "inputs shape: (32, 100)\n",
            "enc_outputs shape: (32, 200, 512)\n",
            "outputs shape: (32, 100, 512)\n",
            "block_1_attn_weights shape: (6, 32, 8, 100, 100)\n",
            "block_2_attn_weights shape: (6, 32, 8, 100, 200)\n"
          ]
        }
      ]
    },
    {
      "cell_type": "markdown",
      "metadata": {
        "id": "dbhTIKO3TiBV"
      },
      "source": [
        "## Masks"
      ]
    },
    {
      "cell_type": "code",
      "metadata": {
        "id": "500LRWWuTjaM"
      },
      "source": [
        "@tf.function\n",
        "def padding_mask(inputs):\n",
        "    \"\"\"\n",
        "    inputs: (batch_size, seq_len)\n",
        "\n",
        "    outputs: (batch_size, seq_len)\n",
        "    \"\"\"\n",
        "    outputs = tf.cast(tf.equal(inputs, 0), tf.float32)\n",
        "    return outputs"
      ],
      "execution_count": null,
      "outputs": []
    },
    {
      "cell_type": "code",
      "metadata": {
        "id": "1o5cHdg3Y58H"
      },
      "source": [
        "def test_padding_mask():\n",
        "    inputs = tf.constant([[1, 0, 2, 0, 3],\n",
        "                          [5, 6, 7, 8, 0],\n",
        "                          [0, 0, 0, 1, 2]])\n",
        "    outputs = padding_mask(inputs)\n",
        "\n",
        "    print(f\"inputs shape: {inputs.shape}\")\n",
        "    print(f\"outputs shape: {outputs.shape}\")\n",
        "    print(f\"inputs:\\n{inputs}\")\n",
        "    print(f\"outputs:\\n{outputs}\")"
      ],
      "execution_count": null,
      "outputs": []
    },
    {
      "cell_type": "code",
      "metadata": {
        "id": "eIiBnlmqZV81",
        "colab": {
          "base_uri": "https://localhost:8080/"
        },
        "outputId": "ff6b4f15-2285-4c65-b48d-267abc2b1336"
      },
      "source": [
        "test_padding_mask()"
      ],
      "execution_count": null,
      "outputs": [
        {
          "output_type": "stream",
          "name": "stdout",
          "text": [
            "inputs shape: (3, 5)\n",
            "outputs shape: (3, 5)\n",
            "inputs:\n",
            "[[1 0 2 0 3]\n",
            " [5 6 7 8 0]\n",
            " [0 0 0 1 2]]\n",
            "outputs:\n",
            "[[0. 1. 0. 1. 0.]\n",
            " [0. 0. 0. 0. 1.]\n",
            " [1. 1. 1. 0. 0.]]\n"
          ]
        }
      ]
    },
    {
      "cell_type": "code",
      "metadata": {
        "id": "ATnmzwwSbAXH"
      },
      "source": [
        "@tf.function\n",
        "def look_ahead_mask(inputs):\n",
        "    \"\"\"\n",
        "    inputs: (batch_size, seq_len)\n",
        "\n",
        "    outputs: (seq_len, seq_len)\n",
        "    \"\"\"\n",
        "    seq_len = tf.shape(inputs)[-1]\n",
        "    ones = tf.ones((seq_len, seq_len))\n",
        "    outputs = 1 - tf.linalg.band_part(ones, -1, 0)\n",
        "    return outputs"
      ],
      "execution_count": null,
      "outputs": []
    },
    {
      "cell_type": "code",
      "metadata": {
        "id": "NTwZW_gvbmPu"
      },
      "source": [
        "def test_look_ahead_mask():\n",
        "    inputs = tf.constant([[1, 2, 3, 0, 0],\n",
        "                          [4, 5, 0, 0, 0]])\n",
        "    outputs = look_ahead_mask(inputs)\n",
        "\n",
        "    print(f\"inputs shape: {inputs.shape}\")\n",
        "    print(f\"outputs shape: {outputs.shape}\")\n",
        "    print(f\"inputs:\\n{inputs}\")\n",
        "    print(f\"outputs:\\n{outputs}\")"
      ],
      "execution_count": null,
      "outputs": []
    },
    {
      "cell_type": "code",
      "metadata": {
        "id": "GuMH3yyRZY8i",
        "colab": {
          "base_uri": "https://localhost:8080/"
        },
        "outputId": "5d4012ca-5460-44c0-d21d-5bf7c98adefe"
      },
      "source": [
        "test_look_ahead_mask()"
      ],
      "execution_count": null,
      "outputs": [
        {
          "output_type": "stream",
          "name": "stdout",
          "text": [
            "inputs shape: (2, 5)\n",
            "outputs shape: (5, 5)\n",
            "inputs:\n",
            "[[1 2 3 0 0]\n",
            " [4 5 0 0 0]]\n",
            "outputs:\n",
            "[[0. 1. 1. 1. 1.]\n",
            " [0. 0. 1. 1. 1.]\n",
            " [0. 0. 0. 1. 1.]\n",
            " [0. 0. 0. 0. 1.]\n",
            " [0. 0. 0. 0. 0.]]\n"
          ]
        }
      ]
    },
    {
      "cell_type": "markdown",
      "metadata": {
        "id": "1isOCrw8JGET"
      },
      "source": [
        "## Transformer"
      ]
    },
    {
      "cell_type": "code",
      "metadata": {
        "id": "gYzMjNv0MZWZ"
      },
      "source": [
        "class Transformer(tf.keras.Model):\n",
        "\n",
        "    def __init__(self,\n",
        "                 d_model,\n",
        "                 vocab_size_enc,\n",
        "                 vocab_size_dec,\n",
        "                 N,\n",
        "                 h,\n",
        "                 d_k,\n",
        "                 d_v,\n",
        "                 d_ff,\n",
        "                 dropout_rate,\n",
        "                 name=\"transformer\",\n",
        "                 **kwargs):\n",
        "        super().__init__(name=name, **kwargs)\n",
        "        self.encoder = Encoder(d_model,\n",
        "                               vocab_size_enc,\n",
        "                               N,\n",
        "                               h,\n",
        "                               d_k,\n",
        "                               d_v,\n",
        "                               d_ff,\n",
        "                               dropout_rate)\n",
        "        self.decoder = Decoder(d_model,\n",
        "                               vocab_size_dec,\n",
        "                               N,\n",
        "                               h,\n",
        "                               d_k,\n",
        "                               d_v,\n",
        "                               d_ff,\n",
        "                               dropout_rate)\n",
        "        self.W_o = tf.keras.layers.Dense(vocab_size_dec,\n",
        "                                         use_bias=False,\n",
        "                                         name=\"W_o\")\n",
        "\n",
        "    @tf.function\n",
        "    def call(self, inputs, training=False):\n",
        "        enc_inputs, dec_inputs = inputs\n",
        "        outputs, *_ = self.call2(enc_inputs, dec_inputs, training)\n",
        "        return outputs\n",
        "\n",
        "    @tf.function\n",
        "    def call2(self, enc_inputs, dec_inputs, training=False):\n",
        "        \"\"\"\n",
        "        enc_inputs: (batch_size, seq_len_enc)\n",
        "        dec_inputs: (batch_size, seq_len_dec)\n",
        "\n",
        "        outputs: (batch_size, seq_len_dec, vocab_size_dec)\n",
        "        enc_block_1_attn_weights:\n",
        "            (N, batch_size, h, seq_len_enc, seq_len_enc)\n",
        "        dec_block_1_attn_weights:\n",
        "            (N, batch_size, h, seq_len_dec, seq_len_dec)\n",
        "        dec_block_2_attn_weights:\n",
        "            (N, batch_size, h, seq_len_dec, seq_len_enc)\n",
        "        \"\"\"\n",
        "        (block_1_mask_enc,\n",
        "         block_1_mask_dec,\n",
        "         block_2_mask_dec) = self.create_masks(enc_inputs,\n",
        "                                               dec_inputs)\n",
        "\n",
        "        (outputs,\n",
        "         enc_block_1_attn_weights) = self.encoder(enc_inputs,\n",
        "                                                  training,\n",
        "                                                  block_1_mask_enc)\n",
        "\n",
        "        (outputs,\n",
        "         dec_block_1_attn_weights,\n",
        "         dec_block_2_attn_weights) = self.decoder(dec_inputs,\n",
        "                                                  outputs,\n",
        "                                                  training,\n",
        "                                                  block_1_mask_dec,\n",
        "                                                  block_2_mask_dec)\n",
        "\n",
        "        outputs = self.W_o(outputs)\n",
        "\n",
        "        return (outputs, enc_block_1_attn_weights,\n",
        "                         dec_block_1_attn_weights,\n",
        "                         dec_block_2_attn_weights)\n",
        "\n",
        "    @tf.function\n",
        "    def create_masks(self, enc_inputs, dec_inputs):\n",
        "        \"\"\"\n",
        "        enc_inputs: (batch_size, seq_len_enc)\n",
        "        dec_inputs: (batch_size, seq_len_dec)\n",
        "\n",
        "        block_1_mask_enc: (batch_size, 1, 1, seq_len_enc)\n",
        "        block_1_mask_dec: (batch_size, 1, seq_len_dec, seq_len_dec)\n",
        "        block_2_mask_dec: (batch_size, 1, 1, seq_len_enc)\n",
        "        \"\"\"\n",
        "        block_1_mask_enc = padding_mask(enc_inputs)\n",
        "        block_1_mask_enc = tf.expand_dims(block_1_mask_enc, 1)\n",
        "        block_1_mask_enc = tf.expand_dims(block_1_mask_enc, 1)\n",
        "\n",
        "        block_1_mask_dec = padding_mask(dec_inputs)\n",
        "        block_1_mask_dec = tf.expand_dims(block_1_mask_dec, 1)\n",
        "        block_1_mask_dec = tf.expand_dims(block_1_mask_dec, 1)\n",
        "        block_1_mask_dec = tf.maximum(block_1_mask_dec,\n",
        "                                      look_ahead_mask(dec_inputs))\n",
        "\n",
        "        block_2_mask_dec = block_1_mask_enc\n",
        "\n",
        "        return (block_1_mask_enc,\n",
        "                block_1_mask_dec,\n",
        "                block_2_mask_dec)"
      ],
      "execution_count": null,
      "outputs": []
    },
    {
      "cell_type": "code",
      "metadata": {
        "id": "0htwlzneQkGj"
      },
      "source": [
        "def test_transformer():\n",
        "    model = Transformer(d_model=512,\n",
        "                        vocab_size_enc=10000,\n",
        "                        vocab_size_dec=10000,\n",
        "                        N=6,\n",
        "                        h=8,\n",
        "                        d_k=64,\n",
        "                        d_v=64,\n",
        "                        d_ff=2048,\n",
        "                        dropout_rate=0.1)\n",
        "    enc_inputs = random.uniform((32, 100), maxval=10000, dtype=tf.int64)\n",
        "    dec_inputs = random.uniform((32, 200), maxval=10000, dtype=tf.int64)\n",
        "    (outputs, enc_block_1_attn_weights,\n",
        "              dec_block_1_attn_weights,\n",
        "              dec_block_2_attn_weights) = \\\n",
        "        model.call2(enc_inputs, dec_inputs)\n",
        "\n",
        "    print(f\"enc_inputs shape: {enc_inputs.shape}\")\n",
        "    print(f\"dec_inputs shape: {dec_inputs.shape}\")\n",
        "    print(f\"outputs shape: {outputs.shape}\")\n",
        "    print(f\"enc_block_1_attn_weights shape:\"\n",
        "          f\" {enc_block_1_attn_weights.shape}\")\n",
        "    print(f\"dec_block_1_attn_weights shape:\"\n",
        "          f\" {dec_block_1_attn_weights.shape}\")\n",
        "    print(f\"dec_block_2_attn_weights shape:\"\n",
        "          f\" {dec_block_2_attn_weights.shape}\")"
      ],
      "execution_count": null,
      "outputs": []
    },
    {
      "cell_type": "code",
      "metadata": {
        "id": "nwguSrzoaDXY",
        "colab": {
          "base_uri": "https://localhost:8080/"
        },
        "outputId": "8f36c0b3-3a44-4237-b25c-7b5e6ca70ffd"
      },
      "source": [
        "test_transformer()"
      ],
      "execution_count": null,
      "outputs": [
        {
          "output_type": "stream",
          "name": "stdout",
          "text": [
            "enc_inputs shape: (32, 100)\n",
            "dec_inputs shape: (32, 200)\n",
            "outputs shape: (32, 200, 10000)\n",
            "enc_block_1_attn_weights shape: (6, 32, 8, 100, 100)\n",
            "dec_block_1_attn_weights shape: (6, 32, 8, 200, 200)\n",
            "dec_block_2_attn_weights shape: (6, 32, 8, 200, 100)\n"
          ]
        }
      ]
    },
    {
      "cell_type": "markdown",
      "metadata": {
        "id": "zfIuTeRIU2pa"
      },
      "source": [
        "# Part 2 - Persistent Volume"
      ]
    },
    {
      "cell_type": "code",
      "metadata": {
        "id": "vl4Z9j7ynSGy"
      },
      "source": [
        "import datetime\n",
        "import google.colab"
      ],
      "execution_count": null,
      "outputs": []
    },
    {
      "cell_type": "code",
      "metadata": {
        "id": "N-Yu9qUrU4Qs",
        "colab": {
          "base_uri": "https://localhost:8080/"
        },
        "outputId": "b90b307b-42a1-4205-cc34-3c3a118a8fd2"
      },
      "source": [
        "# google.colab.drive.mount(\"/content/drive\")"
      ],
      "execution_count": null,
      "outputs": [
        {
          "output_type": "stream",
          "name": "stdout",
          "text": [
            "Mounted at /content/drive\n"
          ]
        }
      ]
    },
    {
      "cell_type": "code",
      "metadata": {
        "id": "8J6mth9k5dJT"
      },
      "source": [
        "PERSISTENT_DIR = (\"/content/drive/MyDrive/Colab Notebooks\"\n",
        "                  \"/attention-is-all-you-need\")\n",
        "\n",
        "!mkdir -p \"{PERSISTENT_DIR}\""
      ],
      "execution_count": null,
      "outputs": []
    },
    {
      "cell_type": "code",
      "metadata": {
        "id": "pg2yaIfIvY_V"
      },
      "source": [
        "EXPERIMENT_ID = f\"{datetime.datetime.now():%Y%m%d-%H%M%S}\""
      ],
      "execution_count": null,
      "outputs": []
    },
    {
      "cell_type": "markdown",
      "metadata": {
        "id": "wXcb1qElE22g"
      },
      "source": [
        "# Part 3 - Input Pipelines"
      ]
    },
    {
      "cell_type": "code",
      "metadata": {
        "id": "GJJ6TwuwExOm"
      },
      "source": [
        "import tensorflow as tf"
      ],
      "execution_count": null,
      "outputs": []
    },
    {
      "cell_type": "code",
      "metadata": {
        "id": "CVA8UfXs6reB"
      },
      "source": [
        "VOCABS_DIR = f\"{PERSISTENT_DIR}/vocabs/{EXPERIMENT_ID}\"\n",
        "\n",
        "!mkdir -p \"{VOCABS_DIR}\""
      ],
      "execution_count": null,
      "outputs": []
    },
    {
      "cell_type": "markdown",
      "metadata": {
        "id": "dWY1TD8fAOTC"
      },
      "source": [
        "## Raw Datasets"
      ]
    },
    {
      "cell_type": "code",
      "metadata": {
        "id": "_6wq8Ka2w8Ja"
      },
      "source": [
        "EUROPARL_SV_EN_URL = (\"https://storage.googleapis.com/jonaslalin\"\n",
        "                      \"/datasets/europarl/sv-en.tgz\")\n",
        "\n",
        "!wget -q -nc {EUROPARL_SV_EN_URL}\n",
        "!tar --skip-old-files -xf sv-en.tgz"
      ],
      "execution_count": null,
      "outputs": []
    },
    {
      "cell_type": "code",
      "metadata": {
        "id": "owe3hD3pkXEb"
      },
      "source": [
        "raw_sv_full = tf.data.TextLineDataset(\"europarl-v7.sv-en.sv\")\n",
        "raw_en_full = tf.data.TextLineDataset(\"europarl-v7.sv-en.en\")\n",
        "\n",
        "raw_sv_en_full = tf.data.Dataset.zip((raw_sv_full, raw_en_full))\n",
        "raw_sv_en_full = raw_sv_en_full.cache()"
      ],
      "execution_count": null,
      "outputs": []
    },
    {
      "cell_type": "code",
      "metadata": {
        "id": "cNdpy0lbzcHM",
        "colab": {
          "base_uri": "https://localhost:8080/"
        },
        "outputId": "f4195667-5959-44d2-9674-915879fd809b"
      },
      "source": [
        "RAW_SV_EN_FULL_SIZE = raw_sv_en_full.reduce(\n",
        "    0,\n",
        "    lambda i, _: i + 1\n",
        ")\n",
        "\n",
        "print(RAW_SV_EN_FULL_SIZE)"
      ],
      "execution_count": null,
      "outputs": [
        {
          "output_type": "stream",
          "name": "stdout",
          "text": [
            "tf.Tensor(1862234, shape=(), dtype=int32)\n"
          ]
        }
      ]
    },
    {
      "cell_type": "code",
      "metadata": {
        "id": "AGj9fmK-dI6G"
      },
      "source": [
        "@tf.function\n",
        "def consistency_check(sv, en):\n",
        "    x = tf.stack((sv, en), -1)\n",
        "    y = tf.constant([[\"\"], [\".\"]])\n",
        "    return tf.reduce_all(tf.logical_not(tf.equal(x, y)))"
      ],
      "execution_count": null,
      "outputs": []
    },
    {
      "cell_type": "code",
      "metadata": {
        "id": "Yu0XWC3bf_xa"
      },
      "source": [
        "raw_sv_en_filtered = raw_sv_en_full.filter(consistency_check)\n",
        "raw_sv_en_filtered = raw_sv_en_filtered.cache()"
      ],
      "execution_count": null,
      "outputs": []
    },
    {
      "cell_type": "code",
      "metadata": {
        "id": "eQZiRIrrgDQC",
        "colab": {
          "base_uri": "https://localhost:8080/"
        },
        "outputId": "ee919f0a-5720-4260-c405-2bb0e72457a6"
      },
      "source": [
        "RAW_SV_EN_FILTERED_SIZE = raw_sv_en_filtered.reduce(\n",
        "    0,\n",
        "    lambda i, _: i + 1\n",
        ")\n",
        "\n",
        "print(RAW_SV_EN_FILTERED_SIZE)"
      ],
      "execution_count": null,
      "outputs": [
        {
          "output_type": "stream",
          "name": "stdout",
          "text": [
            "tf.Tensor(1846891, shape=(), dtype=int32)\n"
          ]
        }
      ]
    },
    {
      "cell_type": "code",
      "metadata": {
        "id": "CISXn7w1LvIo"
      },
      "source": [
        "tf.random.set_seed(1234)\n",
        "\n",
        "raw_sv_en = raw_sv_en_filtered.shuffle(\n",
        "    tf.cast(RAW_SV_EN_FILTERED_SIZE, tf.int64),\n",
        "    seed=1234,\n",
        "    reshuffle_each_iteration=False\n",
        ")\n",
        "raw_sv_en = raw_sv_en.cache()"
      ],
      "execution_count": null,
      "outputs": []
    },
    {
      "cell_type": "code",
      "metadata": {
        "id": "kTllBZe0IBah"
      },
      "source": [
        "SV_EN_TRAIN_SIZE = 100000\n",
        "SV_EN_VAL_SIZE = 10000\n",
        "\n",
        "raw_sv_en_train = raw_sv_en.take(SV_EN_TRAIN_SIZE)\n",
        "\n",
        "raw_sv_en_val = raw_sv_en.skip(SV_EN_TRAIN_SIZE)\n",
        "raw_sv_en_val = raw_sv_en_val.take(SV_EN_VAL_SIZE)\n",
        "\n",
        "raw_sv_train = raw_sv_en_train.map(lambda sv, en: sv)\n",
        "raw_sv_train = raw_sv_train.cache()\n",
        "\n",
        "raw_en_train = raw_sv_en_train.map(lambda sv, en: en)\n",
        "raw_en_train = raw_en_train.cache()\n",
        "\n",
        "raw_sv_val = raw_sv_en_val.map(lambda sv, en: sv)\n",
        "raw_en_val = raw_sv_en_val.map(lambda sv, en: en)"
      ],
      "execution_count": null,
      "outputs": []
    },
    {
      "cell_type": "code",
      "metadata": {
        "id": "6vXpXNgUk1Y1",
        "colab": {
          "base_uri": "https://localhost:8080/"
        },
        "outputId": "6d75c603-1e47-4c72-9abe-43d7bb2c49f6"
      },
      "source": [
        "for sv, en in raw_sv_en_train.take(10):\n",
        "    tf.print(sv)\n",
        "    tf.print(en)"
      ],
      "execution_count": null,
      "outputs": [
        {
          "output_type": "stream",
          "name": "stdout",
          "text": [
            "Medlemsstaterna fortsätter sina många gånger smärtsamma ansträngningar att få de allmänna finanserna i ordning inför den ekonomiska och monetära unionen.\n",
            "The Member States are continuing their often painful efforts to get their public finances in order in the run-up to economic and monetary union.\n",
            "Svaret är med andra ord följande: genom att integrera en ambitiös investeringsstrategi i systemet, genom att skapa en koppling till 2020-målen, eller för att uttrycka det annorlunda, genom att vidta gemensamma åtgärder, t.ex. förbättra vårt utbildningssystem, bekämpa fattigdom och bli mer konkurrenskraftiga och möta konkurrensen från tredjeländer genom att investera i forskning och utveckling.\n",
            "In other words, by integrating an ambitious investment strategy into the system, by forging a link with the 2020 objectives, or to put it another way, by making joint arrangements, for example, to improve our education system, fight poverty and become more competitive and take on the competition from third countries through investment in research and development.\n",
            "När man förbättrar en viss egenskap hos ett däck inverkar det negativt på andra egenskaper, vilket gör att konstruktionen av ett däck verkligen innebär en kompromissoptimering.\n",
            "When one property of the tyre is improved, it affects the others adversely, so tyre design is really a question of optimising compromises.\n",
            "Vi delar självfallet den djupa oron för allt som har att göra med de mänskliga rättigheterna, en hållbar utveckling i synnerhet inom ramar som inte tillåter någon social uteslutning.\n",
            "Obviously we share a basic concern about everything relating to human rights and sustainable development, especially in a context which leaves no room for social exclusion.\n",
            "Med tanke på sjukdomens omfattning och dödlighet samt den stora andelen fall bland ungdomar bör hiv/aids-epidemin räcka som anledning att införa adekvat sexualundervisning i skolorna.\n",
            "The HIV/AIDS epidemic, because of its extent and lethal danger and the large percentage of cases among young people, should be sufficient reason to introduce proper sex education to schools.\n",
            "Dessa åsikter förstärktes förra veckan av utskottet för industrifrågor, utrikeshandel, forskning och energi: vi är för utvecklingen av behandlingsformer för förskräckliga sjukdomar genom att använda embryonala stamceller under mycket stänga villkor, utan att skapa embryon för forskning, utan att använda överflödiga embryon, utan föräldrarnas samtycke och utan betalning.\n",
            "Those views were reinforced by the Committee on Industry, External Trade, Research and Energy last week: we are in favour of the development of therapies for dreadful diseases by the use of embryonic stem cells under very strict conditions, with no creation of embryos for research, with the use of supernumerary embryos, with the consent of parents and without payment.\n",
            "I stället räddades åter ett stort antal tyska och franska banker.\n",
            "Instead, once again, a large number of German and French banks were rescued.\n",
            "   . – Herr talman, kommissionsledamöter! I alla strider är det tillrådligt att bedöma varje skede korrekt.\n",
            "Mr President, Commissioners, I am bound to express the tremendous disappointment I felt following your presentation of the Commission communication today.\n",
            "Jag vill även påtala något som Salafranca betonar och det är att ett mycket viktigt land i Latinamerika, som vi har privilegierade förbindelser med - det handlar om Ecuador - fortfarande inte har en delegation, trots tidigare avtal och åtaganden från parlamentets och kommissionens sida.\n",
            "I would also like to insist upon something Mr Salafranca has also stressed, which is that a very large country in Latin America with which we have a privileged relationship, Ecuador, still has no delegation, despite previous agreements and commitments made by this Parliament and the Commission itself.\n",
            "Skuldsättningsgraden får inte vara obegränsad.\n",
            "Leveraging should not be unconstrained.\n"
          ]
        }
      ]
    },
    {
      "cell_type": "code",
      "metadata": {
        "id": "HfI3W7K4kr7Y",
        "colab": {
          "base_uri": "https://localhost:8080/"
        },
        "outputId": "dd61cca1-8802-46fe-ecf8-cd0a7fcfef07"
      },
      "source": [
        "for sv, en in raw_sv_en_val.take(10):\n",
        "    tf.print(sv)\n",
        "    tf.print(en)"
      ],
      "execution_count": null,
      "outputs": [
        {
          "output_type": "stream",
          "name": "stdout",
          "text": [
            "Slutligen vill jag framföra en åsikt som borde övertyga oss alla.\n",
            "Finally, I should like to express to everyone a view which should prevail among us.\n",
            "Vi tackar er för ert arbete och hälsar er välkomna till Europaparlamentet.\n",
            "We thank you for your work and welcome you to the European Parliament.\n",
            "Vi har nått ett avtal på många punkter, och jag hoppas också att även de få utestående punkterna kan lösas i slutet av året - såsom Europeiska rådet och parlamentet ofta har upprepat, och vilket kommissionen själv hoppas - så att byrån för grundläggande rättigheter äntligen blir operativ 2007.\n",
            "We have come to an agreement on many points, and I hope, too, that the few outstanding points can also be resolved by the end of the year so that, in 2007 - as has often been repeated by the European Council and Parliament, and as the Commission itself hopes - the Fundamental Rights Agency will at last become operational.\n",
            "Dessa siffror talar sitt tydliga språk.\n",
            "These numbers speak for themselves.\n",
            "Betänkandet bidrar till att öka medvetenheten om behovet av ansvarsfull reklam för att bekämpa illojala handelsmetoder inom reklam och att respektera konsumenternas personuppgifter och personliga integritet.\n",
            "The report contributes to raising awareness on the need for responsible advertising to combat unfair commercial practices in advertising and to respect consumers' personal data and privacy.\n",
            "Mina initiativ och förslag under åren att engagera den kinesiska ledningen i en dialog förblir obesvarade.\n",
            "My initiatives and overtures over the years to engage the Chinese leadership in a dialogue remain unreciprocated.\n",
            "Det är på tiden att de människor som deltog, dessa länder i koalitionen såväl som de villiga partnerna, visar ansvar för vad som har hänt det irakiska folket, särskilt de flyktingar som söker hjälp - och även om de får hjälp får de bara den minsta tänkbara.\n",
            "It is about time that those people who participated, those countries in the coalition as well as the willing partners, show responsibility for what has happened to the Iraqi people, especially the refugees who are seeking help - even if they find any help, they find only a minimum amount.\n",
            "Det krävs lägre skatter i Sverige, men också kanske högre skatter i några andra EU-länder.\n",
            "Lower taxes are required in Sweden, but higher taxes may also perhaps be required in some other EU countries.\n",
            "(Talmannen förklarade den gemensamma ståndpunkten godkänd (efter dessa ändringar).)\n",
            "(The President declared the common position approved as amended)\n",
            "Vi har nu sett resultatet från Spanien. Det placerar oss alla i en bättre position, inte enbart när det gäller folkomröstningskampanjen utan också därför att det visar att en stor nation med stor majoritet har bifallit detta politiska projekt.\n",
            "We have now seen the results from Spain, which put us all in a better position, not only as regards the referendum campaign but also by making it clear that a great nation has decided by a large majority in favour of this political project.\n"
          ]
        }
      ]
    },
    {
      "cell_type": "markdown",
      "metadata": {
        "id": "YpKcHUeJ9cil"
      },
      "source": [
        "## Start / End of Sentence"
      ]
    },
    {
      "cell_type": "code",
      "metadata": {
        "id": "joGxDKi09SJJ"
      },
      "source": [
        "@tf.function\n",
        "def add_start_end(inputs, sos_token, eos_token):\n",
        "    sos_token = tf.expand_dims(sos_token, 0)\n",
        "    eos_token = tf.expand_dims(eos_token, 0)\n",
        "\n",
        "    padding_idx = tf.where(tf.equal(inputs, 0))\n",
        "    padding_idx = tf.squeeze(padding_idx, -1)\n",
        "    if tf.shape(padding_idx)[0] > 0:\n",
        "        return tf.concat(\n",
        "            (\n",
        "                sos_token,\n",
        "                inputs[:padding_idx[0]],\n",
        "                eos_token,\n",
        "                inputs[padding_idx[0]:]\n",
        "            ), \n",
        "            -1\n",
        "        )\n",
        "    else:\n",
        "        return tf.concat(\n",
        "            (\n",
        "                sos_token,\n",
        "                inputs,\n",
        "                eos_token\n",
        "            ),\n",
        "            -1\n",
        "        )"
      ],
      "execution_count": null,
      "outputs": []
    },
    {
      "cell_type": "code",
      "metadata": {
        "id": "Dw1e1xeA9XKI"
      },
      "source": [
        "def test_add_start_end():\n",
        "\n",
        "    def test_inputs(inputs):\n",
        "        outputs = add_start_end(inputs, 8, 9)\n",
        "\n",
        "        print(f\"inputs: {inputs}\")\n",
        "        print(f\"outputs: {outputs}\")\n",
        "        print(f\"inputs shape: {inputs.shape}\")\n",
        "        print(f\"outputs shape: {outputs.shape}\\n\")\n",
        "\n",
        "    test_inputs(tf.constant([1, 2, 3, 0, 0, 0, 0]))\n",
        "\n",
        "    test_inputs(tf.constant([1, 2, 3, 4, 5, 6, 0]))\n",
        "\n",
        "    test_inputs(tf.constant([1, 2, 3, 4, 5, 6, 7]))"
      ],
      "execution_count": null,
      "outputs": []
    },
    {
      "cell_type": "code",
      "metadata": {
        "id": "OQNU4eek9YBu",
        "colab": {
          "base_uri": "https://localhost:8080/"
        },
        "outputId": "7bdc3309-e4b4-4eef-8452-f24ce9876844"
      },
      "source": [
        "test_add_start_end()"
      ],
      "execution_count": null,
      "outputs": [
        {
          "output_type": "stream",
          "name": "stdout",
          "text": [
            "inputs: [1 2 3 0 0 0 0]\n",
            "outputs: [8 1 2 3 9 0 0 0 0]\n",
            "inputs shape: (7,)\n",
            "outputs shape: (9,)\n",
            "\n",
            "inputs: [1 2 3 4 5 6 0]\n",
            "outputs: [8 1 2 3 4 5 6 9 0]\n",
            "inputs shape: (7,)\n",
            "outputs shape: (9,)\n",
            "\n",
            "inputs: [1 2 3 4 5 6 7]\n",
            "outputs: [8 1 2 3 4 5 6 7 9]\n",
            "inputs shape: (7,)\n",
            "outputs shape: (9,)\n",
            "\n"
          ]
        }
      ]
    },
    {
      "cell_type": "markdown",
      "metadata": {
        "id": "gPwrKA_0ASdb"
      },
      "source": [
        "## Swedish Vocabulary"
      ]
    },
    {
      "cell_type": "code",
      "metadata": {
        "id": "1GE3Jj-Wx_44"
      },
      "source": [
        "VOCAB_SIZE_SV = 20000 + 2 + 2\n",
        "MAX_SEQ_LEN_SV = 30 + 2\n",
        "\n",
        "tokenize_sv = tf.keras.layers.TextVectorization(\n",
        "    max_tokens=VOCAB_SIZE_SV - 2,\n",
        "    output_sequence_length=MAX_SEQ_LEN_SV - 2\n",
        ")"
      ],
      "execution_count": null,
      "outputs": []
    },
    {
      "cell_type": "code",
      "metadata": {
        "id": "53kbaM5eFjvc"
      },
      "source": [
        "tokenize_sv.adapt(raw_sv_train)\n",
        "\n",
        "vocab_sv = tokenize_sv.get_vocabulary()"
      ],
      "execution_count": null,
      "outputs": []
    },
    {
      "cell_type": "code",
      "metadata": {
        "id": "QJlrVV218IPy"
      },
      "source": [
        "SOS_TOKEN_SV = tf.constant(VOCAB_SIZE_SV - 2, tf.int64)\n",
        "EOS_TOKEN_SV = tf.constant(VOCAB_SIZE_SV - 1, tf.int64)"
      ],
      "execution_count": null,
      "outputs": []
    },
    {
      "cell_type": "code",
      "metadata": {
        "id": "XpKgmZJrESYU"
      },
      "source": [
        "@tf.function\n",
        "def detokenize_sv(sv_tokens):\n",
        "    extra = tf.constant([\"[SOS]\", \"[EOS]\"])\n",
        "    vocab_sv_plus = tf.concat((vocab_sv, extra), -1)\n",
        "    return tf.gather(vocab_sv_plus, sv_tokens)"
      ],
      "execution_count": null,
      "outputs": []
    },
    {
      "cell_type": "code",
      "metadata": {
        "id": "_oz-JLXt7907"
      },
      "source": [
        "!rm -f \"{VOCABS_DIR}/sv.txt\"\n",
        "\n",
        "tf.print(tf.strings.reduce_join(vocab_sv[2:], separator=\"\\n\"),\n",
        "         output_stream=f\"file://{VOCABS_DIR}/sv.txt\",\n",
        "         end=\"\")"
      ],
      "execution_count": null,
      "outputs": []
    },
    {
      "cell_type": "markdown",
      "metadata": {
        "id": "8OQ6bZKMAZ1G"
      },
      "source": [
        "## Swedish Datasets"
      ]
    },
    {
      "cell_type": "code",
      "metadata": {
        "id": "2pcYd4v0_hlR"
      },
      "source": [
        "@tf.function\n",
        "def add_start_end_sv(sv_tokens):\n",
        "    return add_start_end(sv_tokens, SOS_TOKEN_SV, EOS_TOKEN_SV)"
      ],
      "execution_count": null,
      "outputs": []
    },
    {
      "cell_type": "code",
      "metadata": {
        "id": "TtH32U-AhMQG"
      },
      "source": [
        "sv_train = raw_sv_train.map(tokenize_sv,\n",
        "                            num_parallel_calls=tf.data.AUTOTUNE)\n",
        "sv_train = sv_train.map(add_start_end_sv,\n",
        "                        num_parallel_calls=tf.data.AUTOTUNE)\n",
        "\n",
        "sv_val = raw_sv_val.map(tokenize_sv,\n",
        "                        num_parallel_calls=tf.data.AUTOTUNE)\n",
        "sv_val = sv_val.map(add_start_end_sv,\n",
        "                    num_parallel_calls=tf.data.AUTOTUNE)"
      ],
      "execution_count": null,
      "outputs": []
    },
    {
      "cell_type": "code",
      "metadata": {
        "id": "3X2ZM5gUhlAR",
        "colab": {
          "base_uri": "https://localhost:8080/"
        },
        "outputId": "2bb883e9-b8ef-4e82-cbf2-27eb270b2451"
      },
      "source": [
        "for sv_tokens in sv_train.take(10):\n",
        "    tf.print(detokenize_sv(sv_tokens), summarize=-1)"
      ],
      "execution_count": null,
      "outputs": [
        {
          "output_type": "stream",
          "name": "stdout",
          "text": [
            "[\"[SOS]\" \"medlemsstaterna\" \"fortsätter\" \"sina\" \"många\" \"gånger\" \"smärtsamma\" \"ansträngningar\" \"att\" \"få\" \"de\" \"allmänna\" \"finanserna\" \"i\" \"ordning\" \"inför\" \"den\" \"ekonomiska\" \"och\" \"monetära\" \"unionen\" \"[EOS]\" \"\" \"\" \"\" \"\" \"\" \"\" \"\" \"\" \"\" \"\"]\n",
            "[\"[SOS]\" \"svaret\" \"är\" \"med\" \"andra\" \"ord\" \"följande\" \"genom\" \"att\" \"integrera\" \"en\" \"ambitiös\" \"[UNK]\" \"i\" \"systemet\" \"genom\" \"att\" \"skapa\" \"en\" \"koppling\" \"till\" \"[UNK]\" \"eller\" \"för\" \"att\" \"uttrycka\" \"det\" \"annorlunda\" \"genom\" \"att\" \"vidta\" \"[EOS]\"]\n",
            "[\"[SOS]\" \"när\" \"man\" \"förbättrar\" \"en\" \"viss\" \"egenskap\" \"hos\" \"ett\" \"däck\" \"inverkar\" \"det\" \"negativt\" \"på\" \"andra\" \"egenskaper\" \"vilket\" \"gör\" \"att\" \"konstruktionen\" \"av\" \"ett\" \"däck\" \"verkligen\" \"innebär\" \"en\" \"[UNK]\" \"[EOS]\" \"\" \"\" \"\" \"\"]\n",
            "[\"[SOS]\" \"vi\" \"delar\" \"självfallet\" \"den\" \"djupa\" \"oron\" \"för\" \"allt\" \"som\" \"har\" \"att\" \"göra\" \"med\" \"de\" \"mänskliga\" \"rättigheterna\" \"en\" \"hållbar\" \"utveckling\" \"i\" \"synnerhet\" \"inom\" \"ramar\" \"som\" \"inte\" \"tillåter\" \"någon\" \"social\" \"uteslutning\" \"[EOS]\" \"\"]\n",
            "[\"[SOS]\" \"med\" \"tanke\" \"på\" \"sjukdomens\" \"omfattning\" \"och\" \"dödlighet\" \"samt\" \"den\" \"stora\" \"andelen\" \"fall\" \"bland\" \"ungdomar\" \"bör\" \"[UNK]\" \"räcka\" \"som\" \"anledning\" \"att\" \"införa\" \"adekvat\" \"[UNK]\" \"i\" \"skolorna\" \"[EOS]\" \"\" \"\" \"\" \"\" \"\"]\n",
            "[\"[SOS]\" \"dessa\" \"åsikter\" \"förstärktes\" \"förra\" \"veckan\" \"av\" \"utskottet\" \"för\" \"industrifrågor\" \"utrikeshandel\" \"forskning\" \"och\" \"energi\" \"vi\" \"är\" \"för\" \"utvecklingen\" \"av\" \"[UNK]\" \"för\" \"förskräckliga\" \"sjukdomar\" \"genom\" \"att\" \"använda\" \"embryonala\" \"stamceller\" \"under\" \"mycket\" \"stänga\" \"[EOS]\"]\n",
            "[\"[SOS]\" \"i\" \"stället\" \"[UNK]\" \"åter\" \"ett\" \"stort\" \"antal\" \"tyska\" \"och\" \"franska\" \"banker\" \"[EOS]\" \"\" \"\" \"\" \"\" \"\" \"\" \"\" \"\" \"\" \"\" \"\" \"\" \"\" \"\" \"\" \"\" \"\" \"\" \"\"]\n",
            "[\"[SOS]\" \"  \" \"–\" \"herr\" \"talman\" \"kommissionsledamöter\" \"i\" \"alla\" \"strider\" \"är\" \"det\" \"tillrådligt\" \"att\" \"bedöma\" \"varje\" \"skede\" \"korrekt\" \"[EOS]\" \"\" \"\" \"\" \"\" \"\" \"\" \"\" \"\" \"\" \"\" \"\" \"\" \"\" \"\"]\n",
            "[\"[SOS]\" \"jag\" \"vill\" \"även\" \"påtala\" \"något\" \"som\" \"salafranca\" \"betonar\" \"och\" \"det\" \"är\" \"att\" \"ett\" \"mycket\" \"viktigt\" \"land\" \"i\" \"latinamerika\" \"som\" \"vi\" \"har\" \"privilegierade\" \"förbindelser\" \"med\" \"det\" \"handlar\" \"om\" \"[UNK]\" \"fortfarande\" \"inte\" \"[EOS]\"]\n",
            "[\"[SOS]\" \"[UNK]\" \"får\" \"inte\" \"vara\" \"obegränsad\" \"[EOS]\" \"\" \"\" \"\" \"\" \"\" \"\" \"\" \"\" \"\" \"\" \"\" \"\" \"\" \"\" \"\" \"\" \"\" \"\" \"\" \"\" \"\" \"\" \"\" \"\" \"\"]\n"
          ]
        }
      ]
    },
    {
      "cell_type": "code",
      "metadata": {
        "id": "qDh8y63ytGLB",
        "colab": {
          "base_uri": "https://localhost:8080/"
        },
        "outputId": "b0e065df-70f0-4113-d7e5-0a0399651718"
      },
      "source": [
        "for sv_tokens in sv_val.take(10):\n",
        "    tf.print(detokenize_sv(sv_tokens), summarize=-1)"
      ],
      "execution_count": null,
      "outputs": [
        {
          "output_type": "stream",
          "name": "stdout",
          "text": [
            "[\"[SOS]\" \"slutligen\" \"vill\" \"jag\" \"framföra\" \"en\" \"åsikt\" \"som\" \"borde\" \"övertyga\" \"oss\" \"alla\" \"[EOS]\" \"\" \"\" \"\" \"\" \"\" \"\" \"\" \"\" \"\" \"\" \"\" \"\" \"\" \"\" \"\" \"\" \"\" \"\" \"\"]\n",
            "[\"[SOS]\" \"vi\" \"tackar\" \"er\" \"för\" \"ert\" \"arbete\" \"och\" \"hälsar\" \"er\" \"välkomna\" \"till\" \"europaparlamentet\" \"[EOS]\" \"\" \"\" \"\" \"\" \"\" \"\" \"\" \"\" \"\" \"\" \"\" \"\" \"\" \"\" \"\" \"\" \"\" \"\"]\n",
            "[\"[SOS]\" \"vi\" \"har\" \"nått\" \"ett\" \"avtal\" \"på\" \"många\" \"punkter\" \"och\" \"jag\" \"hoppas\" \"också\" \"att\" \"även\" \"de\" \"få\" \"utestående\" \"punkterna\" \"kan\" \"lösas\" \"i\" \"slutet\" \"av\" \"året\" \"såsom\" \"europeiska\" \"rådet\" \"och\" \"parlamentet\" \"ofta\" \"[EOS]\"]\n",
            "[\"[SOS]\" \"dessa\" \"siffror\" \"talar\" \"sitt\" \"tydliga\" \"språk\" \"[EOS]\" \"\" \"\" \"\" \"\" \"\" \"\" \"\" \"\" \"\" \"\" \"\" \"\" \"\" \"\" \"\" \"\" \"\" \"\" \"\" \"\" \"\" \"\" \"\" \"\"]\n",
            "[\"[SOS]\" \"betänkandet\" \"bidrar\" \"till\" \"att\" \"öka\" \"medvetenheten\" \"om\" \"behovet\" \"av\" \"ansvarsfull\" \"reklam\" \"för\" \"att\" \"bekämpa\" \"illojala\" \"[UNK]\" \"inom\" \"reklam\" \"och\" \"att\" \"respektera\" \"konsumenternas\" \"personuppgifter\" \"och\" \"personliga\" \"integritet\" \"[EOS]\" \"\" \"\" \"\" \"\"]\n",
            "[\"[SOS]\" \"mina\" \"initiativ\" \"och\" \"förslag\" \"under\" \"åren\" \"att\" \"engagera\" \"den\" \"kinesiska\" \"ledningen\" \"i\" \"en\" \"dialog\" \"förblir\" \"obesvarade\" \"[EOS]\" \"\" \"\" \"\" \"\" \"\" \"\" \"\" \"\" \"\" \"\" \"\" \"\" \"\" \"\"]\n",
            "[\"[SOS]\" \"det\" \"är\" \"på\" \"tiden\" \"att\" \"de\" \"människor\" \"som\" \"deltog\" \"dessa\" \"länder\" \"i\" \"koalitionen\" \"såväl\" \"som\" \"de\" \"villiga\" \"[UNK]\" \"visar\" \"ansvar\" \"för\" \"vad\" \"som\" \"har\" \"hänt\" \"det\" \"irakiska\" \"folket\" \"särskilt\" \"de\" \"[EOS]\"]\n",
            "[\"[SOS]\" \"det\" \"krävs\" \"lägre\" \"skatter\" \"i\" \"sverige\" \"men\" \"också\" \"kanske\" \"högre\" \"skatter\" \"i\" \"några\" \"andra\" \"euländer\" \"[EOS]\" \"\" \"\" \"\" \"\" \"\" \"\" \"\" \"\" \"\" \"\" \"\" \"\" \"\" \"\" \"\"]\n",
            "[\"[SOS]\" \"talmannen\" \"förklarade\" \"den\" \"gemensamma\" \"ståndpunkten\" \"godkänd\" \"efter\" \"dessa\" \"ändringar\" \"[EOS]\" \"\" \"\" \"\" \"\" \"\" \"\" \"\" \"\" \"\" \"\" \"\" \"\" \"\" \"\" \"\" \"\" \"\" \"\" \"\" \"\" \"\"]\n",
            "[\"[SOS]\" \"vi\" \"har\" \"nu\" \"sett\" \"resultatet\" \"från\" \"spanien\" \"det\" \"placerar\" \"oss\" \"alla\" \"i\" \"en\" \"bättre\" \"position\" \"inte\" \"enbart\" \"när\" \"det\" \"gäller\" \"[UNK]\" \"utan\" \"också\" \"därför\" \"att\" \"det\" \"visar\" \"att\" \"en\" \"stor\" \"[EOS]\"]\n"
          ]
        }
      ]
    },
    {
      "cell_type": "markdown",
      "metadata": {
        "id": "4jtUgmrXAj3N"
      },
      "source": [
        "## English Vocabulary"
      ]
    },
    {
      "cell_type": "code",
      "metadata": {
        "id": "SD3oMJHYtBhx"
      },
      "source": [
        "VOCAB_SIZE_EN = 20000 + 2 + 2\n",
        "MAX_SEQ_LEN_EN = 30 + 2\n",
        "\n",
        "tokenize_en = tf.keras.layers.TextVectorization(\n",
        "    max_tokens=VOCAB_SIZE_EN - 2,\n",
        "    output_sequence_length=MAX_SEQ_LEN_EN - 2\n",
        ")"
      ],
      "execution_count": null,
      "outputs": []
    },
    {
      "cell_type": "code",
      "metadata": {
        "id": "NCyewxDrFuMe"
      },
      "source": [
        "tokenize_en.adapt(raw_en_train)\n",
        "\n",
        "vocab_en = tokenize_en.get_vocabulary()"
      ],
      "execution_count": null,
      "outputs": []
    },
    {
      "cell_type": "code",
      "metadata": {
        "id": "vp3zRCLETBjx"
      },
      "source": [
        "SOS_TOKEN_EN = tf.constant(VOCAB_SIZE_EN - 2, tf.int64)\n",
        "EOS_TOKEN_EN = tf.constant(VOCAB_SIZE_EN - 1, tf.int64)"
      ],
      "execution_count": null,
      "outputs": []
    },
    {
      "cell_type": "code",
      "metadata": {
        "id": "ry9FVaGmKNDc"
      },
      "source": [
        "@tf.function\n",
        "def detokenize_en(en_tokens):\n",
        "    extra = tf.constant([\"[SOS]\", \"[EOS]\"])\n",
        "    vocab_en_plus = tf.concat((vocab_en, extra), -1)\n",
        "    return tf.gather(vocab_en_plus, en_tokens)"
      ],
      "execution_count": null,
      "outputs": []
    },
    {
      "cell_type": "code",
      "metadata": {
        "id": "T-wcmiVze575"
      },
      "source": [
        "!rm -f \"{VOCABS_DIR}/en.txt\"\n",
        "\n",
        "tf.print(tf.strings.reduce_join(vocab_en[2:], separator=\"\\n\"),\n",
        "         output_stream=f\"file://{VOCABS_DIR}/en.txt\",\n",
        "         end=\"\")"
      ],
      "execution_count": null,
      "outputs": []
    },
    {
      "cell_type": "markdown",
      "metadata": {
        "id": "nrU3PS5WAsJK"
      },
      "source": [
        "## English Datasets"
      ]
    },
    {
      "cell_type": "code",
      "metadata": {
        "id": "5s5_VI4Gukfz"
      },
      "source": [
        "@tf.function\n",
        "def add_start_end_en(en_tokens):\n",
        "    return add_start_end(en_tokens, SOS_TOKEN_EN, EOS_TOKEN_EN)"
      ],
      "execution_count": null,
      "outputs": []
    },
    {
      "cell_type": "code",
      "metadata": {
        "id": "OwvuVudxzhLL"
      },
      "source": [
        "en_train = raw_en_train.map(tokenize_en,\n",
        "                            num_parallel_calls=tf.data.AUTOTUNE)\n",
        "en_train = en_train.map(add_start_end_en,\n",
        "                        num_parallel_calls=tf.data.AUTOTUNE)\n",
        "\n",
        "en_val = raw_en_val.map(tokenize_en,\n",
        "                        num_parallel_calls=tf.data.AUTOTUNE)\n",
        "en_val = en_val.map(add_start_end_en,\n",
        "                    num_parallel_calls=tf.data.AUTOTUNE)"
      ],
      "execution_count": null,
      "outputs": []
    },
    {
      "cell_type": "code",
      "metadata": {
        "id": "uHEnKOPCSZ2n",
        "colab": {
          "base_uri": "https://localhost:8080/"
        },
        "outputId": "7f9dcd4a-52b5-4b75-8eae-82d921ac6161"
      },
      "source": [
        "for en_tokens in en_train.take(10):\n",
        "    tf.print(detokenize_en(en_tokens), summarize=-1)"
      ],
      "execution_count": null,
      "outputs": [
        {
          "output_type": "stream",
          "name": "stdout",
          "text": [
            "[\"[SOS]\" \"the\" \"member\" \"states\" \"are\" \"continuing\" \"their\" \"often\" \"painful\" \"efforts\" \"to\" \"get\" \"their\" \"public\" \"finances\" \"in\" \"order\" \"in\" \"the\" \"runup\" \"to\" \"economic\" \"and\" \"monetary\" \"union\" \"[EOS]\" \"\" \"\" \"\" \"\" \"\" \"\"]\n",
            "[\"[SOS]\" \"in\" \"other\" \"words\" \"by\" \"integrating\" \"an\" \"ambitious\" \"investment\" \"strategy\" \"into\" \"the\" \"system\" \"by\" \"forging\" \"a\" \"link\" \"with\" \"the\" \"2020\" \"objectives\" \"or\" \"to\" \"put\" \"it\" \"another\" \"way\" \"by\" \"making\" \"joint\" \"arrangements\" \"[EOS]\"]\n",
            "[\"[SOS]\" \"when\" \"one\" \"property\" \"of\" \"the\" \"tyre\" \"is\" \"improved\" \"it\" \"affects\" \"the\" \"others\" \"adversely\" \"so\" \"tyre\" \"design\" \"is\" \"really\" \"a\" \"question\" \"of\" \"optimising\" \"compromises\" \"[EOS]\" \"\" \"\" \"\" \"\" \"\" \"\" \"\"]\n",
            "[\"[SOS]\" \"obviously\" \"we\" \"share\" \"a\" \"basic\" \"concern\" \"about\" \"everything\" \"relating\" \"to\" \"human\" \"rights\" \"and\" \"sustainable\" \"development\" \"especially\" \"in\" \"a\" \"context\" \"which\" \"leaves\" \"no\" \"room\" \"for\" \"social\" \"exclusion\" \"[EOS]\" \"\" \"\" \"\" \"\"]\n",
            "[\"[SOS]\" \"the\" \"hivaids\" \"epidemic\" \"because\" \"of\" \"its\" \"extent\" \"and\" \"lethal\" \"danger\" \"and\" \"the\" \"large\" \"percentage\" \"of\" \"cases\" \"among\" \"young\" \"people\" \"should\" \"be\" \"sufficient\" \"reason\" \"to\" \"introduce\" \"proper\" \"sex\" \"education\" \"to\" \"schools\" \"[EOS]\"]\n",
            "[\"[SOS]\" \"those\" \"views\" \"were\" \"reinforced\" \"by\" \"the\" \"committee\" \"on\" \"industry\" \"external\" \"trade\" \"research\" \"and\" \"energy\" \"last\" \"week\" \"we\" \"are\" \"in\" \"favour\" \"of\" \"the\" \"development\" \"of\" \"therapies\" \"for\" \"dreadful\" \"diseases\" \"by\" \"the\" \"[EOS]\"]\n",
            "[\"[SOS]\" \"instead\" \"once\" \"again\" \"a\" \"large\" \"number\" \"of\" \"german\" \"and\" \"french\" \"banks\" \"were\" \"rescued\" \"[EOS]\" \"\" \"\" \"\" \"\" \"\" \"\" \"\" \"\" \"\" \"\" \"\" \"\" \"\" \"\" \"\" \"\" \"\"]\n",
            "[\"[SOS]\" \"mr president\" \"commissioners\" \"i\" \"am\" \"bound\" \"to\" \"express\" \"the\" \"tremendous\" \"disappointment\" \"i\" \"felt\" \"following\" \"your\" \"presentation\" \"of\" \"the\" \"commission\" \"communication\" \"today\" \"[EOS]\" \"\" \"\" \"\" \"\" \"\" \"\" \"\" \"\" \"\" \"\"]\n",
            "[\"[SOS]\" \"i\" \"would\" \"also\" \"like\" \"to\" \"insist\" \"upon\" \"something\" \"mr\" \"salafranca\" \"has\" \"also\" \"stressed\" \"which\" \"is\" \"that\" \"a\" \"very\" \"large\" \"country\" \"in\" \"latin\" \"america\" \"with\" \"which\" \"we\" \"have\" \"a\" \"privileged\" \"relationship\" \"[EOS]\"]\n",
            "[\"[SOS]\" \"[UNK]\" \"should\" \"not\" \"be\" \"[UNK]\" \"[EOS]\" \"\" \"\" \"\" \"\" \"\" \"\" \"\" \"\" \"\" \"\" \"\" \"\" \"\" \"\" \"\" \"\" \"\" \"\" \"\" \"\" \"\" \"\" \"\" \"\" \"\"]\n"
          ]
        }
      ]
    },
    {
      "cell_type": "code",
      "metadata": {
        "id": "kW62nK6PvB1G",
        "colab": {
          "base_uri": "https://localhost:8080/"
        },
        "outputId": "a43e7335-a812-40c6-81c5-7123054eda14"
      },
      "source": [
        "for en_tokens in en_val.take(10):\n",
        "    tf.print(detokenize_en(en_tokens), summarize=-1)"
      ],
      "execution_count": null,
      "outputs": [
        {
          "output_type": "stream",
          "name": "stdout",
          "text": [
            "[\"[SOS]\" \"finally\" \"i\" \"should\" \"like\" \"to\" \"express\" \"to\" \"everyone\" \"a\" \"view\" \"which\" \"should\" \"prevail\" \"among\" \"us\" \"[EOS]\" \"\" \"\" \"\" \"\" \"\" \"\" \"\" \"\" \"\" \"\" \"\" \"\" \"\" \"\" \"\"]\n",
            "[\"[SOS]\" \"we\" \"thank\" \"you\" \"for\" \"your\" \"work\" \"and\" \"welcome\" \"you\" \"to\" \"the\" \"european\" \"parliament\" \"[EOS]\" \"\" \"\" \"\" \"\" \"\" \"\" \"\" \"\" \"\" \"\" \"\" \"\" \"\" \"\" \"\" \"\" \"\"]\n",
            "[\"[SOS]\" \"we\" \"have\" \"come\" \"to\" \"an\" \"agreement\" \"on\" \"many\" \"points\" \"and\" \"i\" \"hope\" \"too\" \"that\" \"the\" \"few\" \"outstanding\" \"points\" \"can\" \"also\" \"be\" \"resolved\" \"by\" \"the\" \"end\" \"of\" \"the\" \"year\" \"so\" \"that\" \"[EOS]\"]\n",
            "[\"[SOS]\" \"these\" \"numbers\" \"speak\" \"for\" \"themselves\" \"[EOS]\" \"\" \"\" \"\" \"\" \"\" \"\" \"\" \"\" \"\" \"\" \"\" \"\" \"\" \"\" \"\" \"\" \"\" \"\" \"\" \"\" \"\" \"\" \"\" \"\" \"\"]\n",
            "[\"[SOS]\" \"the\" \"report\" \"contributes\" \"to\" \"raising\" \"awareness\" \"on\" \"the\" \"need\" \"for\" \"responsible\" \"advertising\" \"to\" \"combat\" \"unfair\" \"commercial\" \"practices\" \"in\" \"advertising\" \"and\" \"to\" \"respect\" \"consumers\" \"personal\" \"data\" \"and\" \"privacy\" \"[EOS]\" \"\" \"\" \"\"]\n",
            "[\"[SOS]\" \"my\" \"initiatives\" \"and\" \"overtures\" \"over\" \"the\" \"years\" \"to\" \"engage\" \"the\" \"chinese\" \"leadership\" \"in\" \"a\" \"dialogue\" \"remain\" \"[UNK]\" \"[EOS]\" \"\" \"\" \"\" \"\" \"\" \"\" \"\" \"\" \"\" \"\" \"\" \"\" \"\"]\n",
            "[\"[SOS]\" \"it\" \"is\" \"about\" \"time\" \"that\" \"those\" \"people\" \"who\" \"participated\" \"those\" \"countries\" \"in\" \"the\" \"coalition\" \"as\" \"well\" \"as\" \"the\" \"willing\" \"partners\" \"show\" \"responsibility\" \"for\" \"what\" \"has\" \"happened\" \"to\" \"the\" \"iraqi\" \"people\" \"[EOS]\"]\n",
            "[\"[SOS]\" \"lower\" \"taxes\" \"are\" \"required\" \"in\" \"sweden\" \"but\" \"higher\" \"taxes\" \"may\" \"also\" \"perhaps\" \"be\" \"required\" \"in\" \"some\" \"other\" \"eu\" \"countries\" \"[EOS]\" \"\" \"\" \"\" \"\" \"\" \"\" \"\" \"\" \"\" \"\" \"\"]\n",
            "[\"[SOS]\" \"the\" \"president\" \"declared\" \"the\" \"common\" \"position\" \"approved\" \"as\" \"amended\" \"[EOS]\" \"\" \"\" \"\" \"\" \"\" \"\" \"\" \"\" \"\" \"\" \"\" \"\" \"\" \"\" \"\" \"\" \"\" \"\" \"\" \"\" \"\"]\n",
            "[\"[SOS]\" \"we\" \"have\" \"now\" \"seen\" \"the\" \"results\" \"from\" \"spain\" \"which\" \"put\" \"us\" \"all\" \"in\" \"a\" \"better\" \"position\" \"not\" \"only\" \"as\" \"regards\" \"the\" \"referendum\" \"campaign\" \"but\" \"also\" \"by\" \"making\" \"it\" \"clear\" \"that\" \"[EOS]\"]\n"
          ]
        }
      ]
    },
    {
      "cell_type": "markdown",
      "metadata": {
        "id": "Nl8gM3bBBIZ_"
      },
      "source": [
        "## Train and Validation Datasets"
      ]
    },
    {
      "cell_type": "code",
      "metadata": {
        "id": "Hwqs5riWt9c6"
      },
      "source": [
        "BATCH_SIZE = 32\n",
        "\n",
        "sv_en_train = tf.data.Dataset.zip(\n",
        "    (\n",
        "        tf.data.Dataset.zip(\n",
        "            (\n",
        "                sv_train,\n",
        "                en_train.map(lambda en_tokens: en_tokens[:-1])\n",
        "            )\n",
        "        ),\n",
        "        en_train.map(lambda en_tokens: en_tokens[1:])\n",
        "    )\n",
        ")\n",
        "sv_en_train = sv_en_train.batch(BATCH_SIZE)\n",
        "sv_en_train = sv_en_train.cache()\n",
        "sv_en_train = sv_en_train.prefetch(buffer_size=tf.data.AUTOTUNE)\n",
        "\n",
        "sv_en_val = tf.data.Dataset.zip(\n",
        "    (\n",
        "        tf.data.Dataset.zip(\n",
        "            (\n",
        "                sv_val,\n",
        "                en_val.map(lambda en_tokens: en_tokens[:-1])\n",
        "            )\n",
        "        ),\n",
        "        en_val.map(lambda en_tokens: en_tokens[1:])\n",
        "    )\n",
        ")\n",
        "sv_en_val = sv_en_val.batch(BATCH_SIZE)\n",
        "sv_en_val = sv_en_val.cache()\n",
        "sv_en_val = sv_en_val.prefetch(buffer_size=tf.data.AUTOTUNE)"
      ],
      "execution_count": null,
      "outputs": []
    },
    {
      "cell_type": "markdown",
      "metadata": {
        "id": "Mp3R3ZzAFDxg"
      },
      "source": [
        "# Part 4 - Training"
      ]
    },
    {
      "cell_type": "code",
      "metadata": {
        "id": "kq9L-cA6FNy9"
      },
      "source": [
        "import matplotlib.pyplot as plt\n",
        "import matplotlib.ticker as ticker\n",
        "import tensorflow as tf"
      ],
      "execution_count": null,
      "outputs": []
    },
    {
      "cell_type": "code",
      "metadata": {
        "id": "j2TRKfDUFl3o"
      },
      "source": [
        "# random = tf.random.Generator.from_seed(1234)"
      ],
      "execution_count": null,
      "outputs": []
    },
    {
      "cell_type": "markdown",
      "metadata": {
        "id": "TYBorYXFkUrz"
      },
      "source": [
        "## Learning Rate Schedule"
      ]
    },
    {
      "cell_type": "code",
      "metadata": {
        "id": "vElBflG6kXJQ"
      },
      "source": [
        "class TransformerLRSchedule(\n",
        "    tf.keras.optimizers.schedules.LearningRateSchedule):\n",
        "\n",
        "    def __init__(self,\n",
        "                 d_model,\n",
        "                 warmup_steps,\n",
        "                 name=\"transformer_lr_schedule\"):\n",
        "        self.d_model = d_model\n",
        "        self.warmup_steps = warmup_steps\n",
        "        self.name = name\n",
        "\n",
        "    @tf.function\n",
        "    def __call__(self, step):\n",
        "        step = tf.cast(step, tf.float32)\n",
        "        d_model = tf.cast(self.d_model, tf.float32)\n",
        "        warmup_steps = tf.cast(self.warmup_steps, tf.float32)\n",
        "\n",
        "        learning_rate = tf.multiply(\n",
        "            tf.pow(d_model, -0.5),\n",
        "            tf.minimum(\n",
        "                tf.pow(step, -0.5),\n",
        "                tf.multiply(step, tf.pow(warmup_steps, -1.5))\n",
        "            )\n",
        "        )\n",
        "\n",
        "        return learning_rate"
      ],
      "execution_count": null,
      "outputs": []
    },
    {
      "cell_type": "code",
      "metadata": {
        "id": "L4CVdEBjzk-A"
      },
      "source": [
        "def test_transformer_lr_schedule():\n",
        "    lr_schedule = TransformerLRSchedule(d_model=512, warmup_steps=4000)\n",
        "    steps = tf.range(40000)\n",
        "    learning_rates = lr_schedule(steps)\n",
        "\n",
        "    plt.figure(figsize=(8, 6))\n",
        "    plt.plot(steps, learning_rates)\n",
        "    plt.gca().yaxis.set_major_formatter(\n",
        "        ticker.StrMethodFormatter(\"{x:.1e}\")\n",
        "    )\n",
        "    plt.vlines(4000,\n",
        "               ymin=0,\n",
        "               ymax=tf.reduce_max(learning_rates),\n",
        "               linestyles=\"dashed\")\n",
        "    plt.xlabel(\"Step\", fontsize=\"large\")\n",
        "    plt.ylabel(\"Learning Rate\", fontsize=\"large\")\n",
        "    plt.savefig(\"learning_rate.svg\")"
      ],
      "execution_count": null,
      "outputs": []
    },
    {
      "cell_type": "code",
      "metadata": {
        "id": "kjZcwTDAbYtg",
        "colab": {
          "base_uri": "https://localhost:8080/",
          "height": 391
        },
        "outputId": "ba2d5184-a3bc-418c-f031-0a570a283d87"
      },
      "source": [
        "test_transformer_lr_schedule()"
      ],
      "execution_count": null,
      "outputs": [
        {
          "output_type": "display_data",
          "data": {
            "image/png": "[encoded data removed]",
            "text/plain": [
              "<Figure size 576x432 with 1 Axes>"
            ]
          },
          "metadata": {
            "needs_background": "light"
          }
        }
      ]
    },
    {
      "cell_type": "markdown",
      "metadata": {
        "id": "dKwPQsq7NKlS"
      },
      "source": [
        "## Loss and Metrics"
      ]
    },
    {
      "cell_type": "code",
      "metadata": {
        "id": "q3o5dY0Uftpt"
      },
      "source": [
        "@tf.function\n",
        "def entropy(p):\n",
        "    return -tf.reduce_sum(\n",
        "        tf.multiply(p, tf.math.log(p)),\n",
        "        -1\n",
        "    )\n",
        "\n",
        "@tf.function\n",
        "def crossentropy(p, q):\n",
        "    return -tf.reduce_sum(\n",
        "        tf.multiply(p, tf.math.log(q)),\n",
        "        -1\n",
        "    )\n",
        "\n",
        "@tf.function\n",
        "def kl_divergence(p, q):\n",
        "    return tf.reduce_sum(\n",
        "        tf.multiply(p, tf.math.log(tf.divide(p, q))),\n",
        "        -1\n",
        "    )\n",
        "\n",
        "crossentropy_builtin = tf.keras.losses.CategoricalCrossentropy(\n",
        "    reduction=tf.keras.losses.Reduction.NONE\n",
        ")"
      ],
      "execution_count": null,
      "outputs": []
    },
    {
      "cell_type": "code",
      "metadata": {
        "id": "bhgI8jF-bmpY"
      },
      "source": [
        "def test_crossentropy_builtin():\n",
        "    p = tf.constant([[0.33, 0.33, 0.34],\n",
        "                     [0.02, 0.02, 0.96]])\n",
        "    q = tf.constant([[0.3, 0.3, 0.4],\n",
        "                     [0.2, 0.3, 0.5]])\n",
        "\n",
        "    print(f\"p:\\n{p}\")\n",
        "    print(f\"q:\\n{q}\")\n",
        "    print(f\"entropy:\\n{entropy(p)}\")\n",
        "    print(f\"crossentropy:\\n{crossentropy(p, q)}\")\n",
        "    print(f\"crossentropy_builtin:\\n{crossentropy_builtin(p, q)}\")\n",
        "    print(f\"kl_divergence:\\n{kl_divergence(p, q)}\")\n",
        "    print(f\"kl_divergence check:\\n{-entropy(p) + crossentropy(p, q)}\")"
      ],
      "execution_count": null,
      "outputs": []
    },
    {
      "cell_type": "code",
      "metadata": {
        "id": "0aRoQAPsbxbK",
        "colab": {
          "base_uri": "https://localhost:8080/"
        },
        "outputId": "7199e0c1-b89a-4668-d3e3-d595a2d535ee"
      },
      "source": [
        "test_crossentropy_builtin()"
      ],
      "execution_count": null,
      "outputs": [
        {
          "output_type": "stream",
          "name": "stdout",
          "text": [
            "p:\n",
            "[[0.33 0.33 0.34]\n",
            " [0.02 0.02 0.96]]\n",
            "q:\n",
            "[[0.3 0.3 0.4]\n",
            " [0.2 0.3 0.5]]\n",
            "entropy:\n",
            "[1.0985126  0.19567007]\n",
            "crossentropy:\n",
            "[1.1061609 0.7216895]\n",
            "crossentropy_builtin:\n",
            "[1.1061609 0.7216895]\n",
            "kl_divergence:\n",
            "[0.00764831 0.52601945]\n",
            "kl_divergence check:\n",
            "[0.00764823 0.52601945]\n"
          ]
        }
      ]
    },
    {
      "cell_type": "code",
      "metadata": {
        "id": "RlzgP2mfcG2R"
      },
      "source": [
        "@tf.function\n",
        "def smooth_labels(p, label_smoothing=0.1):\n",
        "    vocab_size = tf.shape(p)[-1]\n",
        "    vocab_size = tf.cast(vocab_size, tf.float32)\n",
        "    return tf.add(\n",
        "        tf.multiply(tf.subtract(1.0, label_smoothing), p),\n",
        "        tf.divide(label_smoothing, vocab_size)\n",
        "    )\n",
        "\n",
        "@tf.function\n",
        "def crossentropy_ls(p, q):\n",
        "    return crossentropy(smooth_labels(p), q)\n",
        "\n",
        "crossentropy_ls_builtin = tf.keras.losses.CategoricalCrossentropy(\n",
        "    label_smoothing=0.1,\n",
        "    reduction=tf.keras.losses.Reduction.NONE\n",
        ")"
      ],
      "execution_count": null,
      "outputs": []
    },
    {
      "cell_type": "code",
      "metadata": {
        "id": "h6S8JFIocDyd"
      },
      "source": [
        "def test_crossentropy_ls_builtin():\n",
        "    y_true = tf.constant([[1, 2, 0, 0],\n",
        "                          [2, 1, 1, 0]])\n",
        "    p = tf.one_hot(y_true, 3)\n",
        "    q = random.uniform((2, 4, 3))\n",
        "    q = tf.divide(q, tf.reduce_sum(q, -1, True))\n",
        "\n",
        "    # (batch_size, seq_len)\n",
        "    print(f\"y_true:\\n{y_true}\")\n",
        "    # (batch_size, seq_len, vocab_size)\n",
        "    print(f\"p:\\n{p}\")\n",
        "    # (batch_size, seq_len, vocab_size)\n",
        "    print(f\"smooth p:\\n{smooth_labels(p)}\")\n",
        "    # (batch_size, seq_len, vocab_size)\n",
        "    print(f\"q:\\n{q}\")\n",
        "    # (batch_size, seq_len)\n",
        "    print(f\"crossentropy:\\n{crossentropy(p, q)}\")\n",
        "    # (batch_size, seq_len)\n",
        "    print(f\"crossentropy_builtin:\\n{crossentropy_builtin(p, q)}\")\n",
        "    # (batch_size, seq_len)\n",
        "    print(f\"crossentropy_ls:\\n{crossentropy_ls(p, q)}\")\n",
        "    # (batch_size, seq_len)\n",
        "    print(f\"crossentropy_ls_builtin:\\n{crossentropy_ls_builtin(p, q)}\")"
      ],
      "execution_count": null,
      "outputs": []
    },
    {
      "cell_type": "code",
      "metadata": {
        "id": "kKEEYY6VcQp4",
        "colab": {
          "base_uri": "https://localhost:8080/"
        },
        "outputId": "880f5989-9ff9-45f1-fef2-133076bcaca6"
      },
      "source": [
        "test_crossentropy_ls_builtin()"
      ],
      "execution_count": null,
      "outputs": [
        {
          "output_type": "stream",
          "name": "stdout",
          "text": [
            "y_true:\n",
            "[[1 2 0 0]\n",
            " [2 1 1 0]]\n",
            "p:\n",
            "[[[0. 1. 0.]\n",
            "  [0. 0. 1.]\n",
            "  [1. 0. 0.]\n",
            "  [1. 0. 0.]]\n",
            "\n",
            " [[0. 0. 1.]\n",
            "  [0. 1. 0.]\n",
            "  [0. 1. 0.]\n",
            "  [1. 0. 0.]]]\n",
            "smooth p:\n",
            "[[[0.03333334 0.93333334 0.03333334]\n",
            "  [0.03333334 0.03333334 0.93333334]\n",
            "  [0.93333334 0.03333334 0.03333334]\n",
            "  [0.93333334 0.03333334 0.03333334]]\n",
            "\n",
            " [[0.03333334 0.03333334 0.93333334]\n",
            "  [0.03333334 0.93333334 0.03333334]\n",
            "  [0.03333334 0.93333334 0.03333334]\n",
            "  [0.93333334 0.03333334 0.03333334]]]\n",
            "q:\n",
            "[[[0.30951768 0.35787776 0.33260456]\n",
            "  [0.2762179  0.55923486 0.16454726]\n",
            "  [0.42121568 0.20454203 0.37424228]\n",
            "  [0.20294477 0.5623063  0.23474893]]\n",
            "\n",
            " [[0.5276861  0.46658653 0.00572738]\n",
            "  [0.13168487 0.75489956 0.11341554]\n",
            "  [0.5868419  0.01515122 0.39800692]\n",
            "  [0.40796205 0.10813049 0.48390746]]]\n",
            "crossentropy:\n",
            "[[1.0275638  1.8045574  0.86461025 1.5948215 ]\n",
            " [5.162497   0.28117058 4.1896744  0.8965811 ]]\n",
            "crossentropy_builtin:\n",
            "[[1.0275638  1.8045574  0.86461025 1.5948215 ]\n",
            " [5.162497   0.2811705  4.1896744  0.8965811 ]]\n",
            "crossentropy_ls:\n",
            "[[1.0348443  1.7465119  0.89263076 1.5559983 ]\n",
            " [4.86505    0.40256053 3.958839   0.93515164]]\n",
            "crossentropy_ls_builtin:\n",
            "[[1.0348443  1.7465119  0.89263076 1.5559983 ]\n",
            " [4.86505    0.40256047 3.958839   0.93515164]]\n"
          ]
        }
      ]
    },
    {
      "cell_type": "markdown",
      "metadata": {
        "id": "9VE5R02C7aob"
      },
      "source": [
        "### Masked Crossentropy"
      ]
    },
    {
      "cell_type": "code",
      "metadata": {
        "id": "4IIAA2I30EF-"
      },
      "source": [
        "class MaskedCrossentropy(tf.keras.losses.Loss):\n",
        "\n",
        "    def __init__(self,\n",
        "                 from_logits,\n",
        "                 label_smoothing,\n",
        "                 name=\"masked_crossentropy\"):\n",
        "        super().__init__(name=name)\n",
        "        self.crossentropy = tf.keras.losses.CategoricalCrossentropy(\n",
        "            from_logits,\n",
        "            label_smoothing,\n",
        "            reduction=tf.keras.losses.Reduction.NONE\n",
        "        )\n",
        "\n",
        "    @tf.function\n",
        "    def call(self, y_true, y_pred):\n",
        "        vocab_size = tf.shape(y_pred)[-1]\n",
        "        y_true_oh = tf.one_hot(y_true, vocab_size)\n",
        "        mask = padding_mask(y_true)\n",
        "        losses = self.crossentropy(y_true_oh, y_pred)\n",
        "        losses = tf.multiply(losses, tf.subtract(1.0, mask))\n",
        "        loss = tf.divide(\n",
        "            tf.reduce_sum(losses),\n",
        "            tf.reduce_sum(tf.subtract(1.0, mask))\n",
        "        )\n",
        "        return loss"
      ],
      "execution_count": null,
      "outputs": []
    },
    {
      "cell_type": "code",
      "metadata": {
        "id": "hxuYmuT9UcPE"
      },
      "source": [
        "def test_masked_crossentropy():\n",
        "    y_true = random.uniform((32, 100), maxval=10000, dtype=tf.int64)\n",
        "    y_pred = random.uniform((32, 100, 10000))\n",
        "    y_pred = tf.divide(y_pred, tf.reduce_sum(y_pred, -1, True))\n",
        "    crossentropy = MaskedCrossentropy(from_logits=False,\n",
        "                                      label_smoothing=0.1)\n",
        "    loss = crossentropy(y_true, y_pred)\n",
        "\n",
        "    print(f\"y_true shape: {y_true.shape}\")\n",
        "    print(f\"y_pred shape: {y_pred.shape}\")\n",
        "    print(f\"loss: {loss}\")"
      ],
      "execution_count": null,
      "outputs": []
    },
    {
      "cell_type": "code",
      "metadata": {
        "id": "sTXU9um-c-Gk",
        "colab": {
          "base_uri": "https://localhost:8080/"
        },
        "outputId": "55f723dc-f832-4f0b-c89b-38ffc5a93e22"
      },
      "source": [
        "test_masked_crossentropy()"
      ],
      "execution_count": null,
      "outputs": [
        {
          "output_type": "stream",
          "name": "stdout",
          "text": [
            "y_true shape: (32, 100)\n",
            "y_pred shape: (32, 100, 10000)\n",
            "loss: 9.515403747558594\n"
          ]
        }
      ]
    },
    {
      "cell_type": "markdown",
      "metadata": {
        "id": "p6iVa_kz-iod"
      },
      "source": [
        "### Masked Accuracy"
      ]
    },
    {
      "cell_type": "code",
      "metadata": {
        "id": "kleJNsO9tAm0"
      },
      "source": [
        "class MaskedAccuracy(tf.keras.metrics.Metric):\n",
        "\n",
        "    def __init__(self,\n",
        "                 name=\"masked_accuracy\",\n",
        "                 **kwargs):\n",
        "        super().__init__(name=name, **kwargs)\n",
        "        self.accuracy = tf.keras.metrics.Mean()\n",
        "\n",
        "    @tf.function\n",
        "    def update_state(self, y_true, y_pred, sample_weight=None):\n",
        "        mask = padding_mask(y_true)\n",
        "        predictions = tf.argmax(y_pred, -1)\n",
        "        accuracies = tf.equal(y_true, predictions)\n",
        "        accuracies = tf.cast(accuracies, tf.float32)\n",
        "        accuracies = tf.multiply(accuracies, tf.subtract(1.0, mask))\n",
        "        accuracy = tf.divide(\n",
        "            tf.reduce_sum(accuracies),\n",
        "            tf.reduce_sum(tf.subtract(1.0, mask))\n",
        "        )\n",
        "        self.accuracy.update_state(accuracy)\n",
        "\n",
        "    def result(self):\n",
        "        return self.accuracy.result()\n",
        "\n",
        "    def reset_state(self):\n",
        "        self.accuracy.reset_state()"
      ],
      "execution_count": null,
      "outputs": []
    },
    {
      "cell_type": "code",
      "metadata": {
        "id": "xWdDzWiqMPKJ"
      },
      "source": [
        "def test_masked_accuracy():\n",
        "    y_true = tf.constant([[1, 0, 2]], tf.int64)\n",
        "    y_pred = tf.constant([[0.1, 0.8, 0.1],\n",
        "                          [0.8, 0.1, 0.1],\n",
        "                          [0.1, 0.8, 0.1]])\n",
        "    accuracy = MaskedAccuracy()(y_true, y_pred)\n",
        "\n",
        "    print(f\"accuracy: {accuracy}\")"
      ],
      "execution_count": null,
      "outputs": []
    },
    {
      "cell_type": "code",
      "metadata": {
        "id": "5B4kwm79dOO3",
        "colab": {
          "base_uri": "https://localhost:8080/"
        },
        "outputId": "31c853d1-07e2-4de4-b2ca-7a49c6c25bfa"
      },
      "source": [
        "test_masked_accuracy()"
      ],
      "execution_count": null,
      "outputs": [
        {
          "output_type": "stream",
          "name": "stdout",
          "text": [
            "accuracy: 0.5\n"
          ]
        }
      ]
    },
    {
      "cell_type": "markdown",
      "metadata": {
        "id": "_2UDhNWvq5ic"
      },
      "source": [
        "## Create, Compile and Fit Model"
      ]
    },
    {
      "cell_type": "code",
      "metadata": {
        "id": "yYNmR2WJtvdp"
      },
      "source": [
        "PARENT_CHECKPOINTS_DIR = f\"{PERSISTENT_DIR}/checkpoints\"\n",
        "PARENT_LOGS_DIR = f\"{PERSISTENT_DIR}/logs\"\n",
        "\n",
        "!mkdir -p \"{PARENT_CHECKPOINTS_DIR}\"\n",
        "!mkdir -p \"{PARENT_LOGS_DIR}\""
      ],
      "execution_count": null,
      "outputs": []
    },
    {
      "cell_type": "code",
      "metadata": {
        "id": "jgAl4fSQqbq2"
      },
      "source": [
        "training_counter = 0"
      ],
      "execution_count": null,
      "outputs": []
    },
    {
      "cell_type": "code",
      "metadata": {
        "id": "xbdhu_gT3GHe"
      },
      "source": [
        "def create_model():\n",
        "    model = Transformer(d_model=128, \n",
        "                        vocab_size_enc=VOCAB_SIZE_SV,\n",
        "                        vocab_size_dec=VOCAB_SIZE_EN,\n",
        "                        N=4,\n",
        "                        h=8,\n",
        "                        d_k=16,  # d_model / h\n",
        "                        d_v=16,  # d_model / h\n",
        "                        d_ff=512,\n",
        "                        dropout_rate=0.1)\n",
        "    return model"
      ],
      "execution_count": null,
      "outputs": []
    },
    {
      "cell_type": "code",
      "metadata": {
        "id": "Kkx8GMdOqGCz"
      },
      "source": [
        "def create_compile_model():\n",
        "    model = create_model()\n",
        "\n",
        "    optimizer = tf.keras.optimizers.Adam(\n",
        "        learning_rate=TransformerLRSchedule(d_model=128,\n",
        "                                            # ~3 epochs\n",
        "                                            warmup_steps=10000),\n",
        "        beta_1=0.9,\n",
        "        beta_2=0.98,\n",
        "        epsilon=1e-8\n",
        "    )\n",
        "\n",
        "    loss = MaskedCrossentropy(from_logits=True, label_smoothing=0.1)\n",
        "\n",
        "    metrics = [MaskedAccuracy()]\n",
        "\n",
        "    model.compile(optimizer, loss, metrics)\n",
        "\n",
        "    return model"
      ],
      "execution_count": null,
      "outputs": []
    },
    {
      "cell_type": "code",
      "metadata": {
        "id": "6qzqFVvElVcB"
      },
      "source": [
        "def create_compile_fit_model():\n",
        "    global training_counter\n",
        "    training_counter += 1\n",
        "\n",
        "    model = create_compile_model()\n",
        "\n",
        "    early_stopping_cb = tf.keras.callbacks.EarlyStopping(\n",
        "        monitor=\"val_masked_accuracy\",\n",
        "        min_delta=0.01,\n",
        "        patience=3,\n",
        "        verbose=1,\n",
        "        mode=\"max\"\n",
        "    )\n",
        "\n",
        "    checkpoint_dir = (f\"{PARENT_CHECKPOINTS_DIR}\"\n",
        "                      f\"/{EXPERIMENT_ID}_{training_counter:02d}\"\n",
        "                      f\"/weights_{{epoch:02d}}\")\n",
        "    checkpoint_cb = tf.keras.callbacks.ModelCheckpoint(\n",
        "        filepath=checkpoint_dir,\n",
        "        monitor=\"val_masked_accuracy\",\n",
        "        save_best_only=True,\n",
        "        save_weights_only=True,\n",
        "        mode=\"max\"\n",
        "    )\n",
        "\n",
        "    log_dir = (f\"{PARENT_LOGS_DIR}\"\n",
        "               f\"/{EXPERIMENT_ID}_{training_counter:02d}\")\n",
        "    tensorboard_cb = tf.keras.callbacks.TensorBoard(log_dir)\n",
        "\n",
        "    callbacks = [early_stopping_cb,\n",
        "                 checkpoint_cb,\n",
        "                 tensorboard_cb]\n",
        "\n",
        "    history = model.fit(sv_en_train,\n",
        "                        validation_data=sv_en_val,\n",
        "                        epochs=32,  # 100000 steps\n",
        "                        callbacks=callbacks)\n",
        "\n",
        "    return model, history"
      ],
      "execution_count": null,
      "outputs": []
    },
    {
      "cell_type": "code",
      "metadata": {
        "colab": {
          "base_uri": "https://localhost:8080/"
        },
        "id": "tlmxmNtXimbT",
        "outputId": "93d536ae-3e5a-4eda-872d-8f7badc4d21f"
      },
      "source": [
        "!nvidia-smi -L"
      ],
      "execution_count": null,
      "outputs": [
        {
          "output_type": "stream",
          "name": "stdout",
          "text": [
            "GPU 0: Tesla K80 (UUID: GPU-5a5d08d1-d680-b345-c913-43f54344a8d8)\n"
          ]
        }
      ]
    },
    {
      "cell_type": "code",
      "metadata": {
        "id": "a8PzhNF2rE5k",
        "colab": {
          "base_uri": "https://localhost:8080/"
        },
        "outputId": "4486d6b2-fc6a-4e51-c216-7f4b66e2721b"
      },
      "source": [
        "model, history = create_compile_fit_model()"
      ],
      "execution_count": null,
      "outputs": [
        {
          "output_type": "stream",
          "name": "stdout",
          "text": [
            "Epoch 1/32\n",
            "3125/3125 [==============================] - 433s 133ms/step - loss: 6.9038 - masked_accuracy: 0.1561 - val_loss: 5.6831 - val_masked_accuracy: 0.2466\n",
            "Epoch 2/32\n",
            "3125/3125 [==============================] - 337s 108ms/step - loss: 5.4538 - masked_accuracy: 0.2757 - val_loss: 4.9169 - val_masked_accuracy: 0.3519\n",
            "Epoch 3/32\n",
            "3125/3125 [==============================] - 341s 109ms/step - loss: 4.7411 - masked_accuracy: 0.3794 - val_loss: 4.3096 - val_masked_accuracy: 0.4477\n",
            "Epoch 4/32\n",
            "3125/3125 [==============================] - 341s 109ms/step - loss: 4.2131 - masked_accuracy: 0.4627 - val_loss: 3.9197 - val_masked_accuracy: 0.5107\n",
            "Epoch 5/32\n",
            "3125/3125 [==============================] - 342s 109ms/step - loss: 3.8930 - masked_accuracy: 0.5122 - val_loss: 3.7617 - val_masked_accuracy: 0.5363\n",
            "Epoch 6/32\n",
            "3125/3125 [==============================] - 342s 109ms/step - loss: 3.7182 - masked_accuracy: 0.5397 - val_loss: 3.6779 - val_masked_accuracy: 0.5518\n",
            "Epoch 7/32\n",
            "3125/3125 [==============================] - 342s 110ms/step - loss: 3.6046 - masked_accuracy: 0.5572 - val_loss: 3.6300 - val_masked_accuracy: 0.5600\n",
            "Epoch 8/32\n",
            "3125/3125 [==============================] - 342s 110ms/step - loss: 3.5202 - masked_accuracy: 0.5705 - val_loss: 3.5943 - val_masked_accuracy: 0.5656\n",
            "Epoch 9/32\n",
            "3125/3125 [==============================] - 343s 110ms/step - loss: 3.4535 - masked_accuracy: 0.5810 - val_loss: 3.5743 - val_masked_accuracy: 0.5702\n",
            "Epoch 10/32\n",
            "3125/3125 [==============================] - 343s 110ms/step - loss: 3.3991 - masked_accuracy: 0.5897 - val_loss: 3.5526 - val_masked_accuracy: 0.5747\n",
            "Epoch 11/32\n",
            "3125/3125 [==============================] - 343s 110ms/step - loss: 3.3545 - masked_accuracy: 0.5968 - val_loss: 3.5372 - val_masked_accuracy: 0.5756\n",
            "Epoch 12/32\n",
            "3125/3125 [==============================] - 343s 110ms/step - loss: 3.3164 - masked_accuracy: 0.6032 - val_loss: 3.5347 - val_masked_accuracy: 0.5775\n",
            "Epoch 13/32\n",
            "3125/3125 [==============================] - 344s 110ms/step - loss: 3.2843 - masked_accuracy: 0.6084 - val_loss: 3.5333 - val_masked_accuracy: 0.5782\n",
            "Epoch 14/32\n",
            "3125/3125 [==============================] - 343s 110ms/step - loss: 3.2544 - masked_accuracy: 0.6132 - val_loss: 3.5317 - val_masked_accuracy: 0.5775\n",
            "Epoch 00014: early stopping\n"
          ]
        }
      ]
    },
    {
      "cell_type": "code",
      "metadata": {
        "id": "rDRQj42aRcy5"
      },
      "source": [
        "# !tensorboard dev upload --logdir \"{PARENT_LOGS_DIR}\" \\\n",
        "#                         --name \"attention-is-all-you-need\" \\\n",
        "#                         --one_shot"
      ],
      "execution_count": null,
      "outputs": []
    },
    {
      "cell_type": "markdown",
      "metadata": {
        "id": "5rr2Bb5rS7hW"
      },
      "source": [
        "Done. View your TensorBoard at https://tensorboard.dev/experiment/uPIgr3XNTbKbYZtr71F8lA/"
      ]
    },
    {
      "cell_type": "markdown",
      "metadata": {
        "id": "TI-ZqlRac9UQ"
      },
      "source": [
        "# Part 5 - Inference"
      ]
    },
    {
      "cell_type": "code",
      "metadata": {
        "id": "BTC1CZNctDbY"
      },
      "source": [
        "import matplotlib.pyplot as plt\n",
        "import tensorflow as tf"
      ],
      "execution_count": null,
      "outputs": []
    },
    {
      "cell_type": "markdown",
      "metadata": {
        "id": "Oh20r_5mCXkn"
      },
      "source": [
        "## Pretrained Weights"
      ]
    },
    {
      "cell_type": "code",
      "metadata": {
        "id": "ceOs9NTOaF05"
      },
      "source": [
        "MODEL_BASE_URL = (\"https://storage.googleapis.com/jonaslalin\"\n",
        "                  \"/models/attention-is-all-you-need\")\n",
        "\n",
        "VOCAB_URL = f\"{MODEL_BASE_URL}/vocab.tgz\"\n",
        "CHECKPOINT_URL = f\"{MODEL_BASE_URL}/weights_13.tgz\"\n",
        "\n",
        "!wget -q -nc {VOCAB_URL}\n",
        "!tar --skip-old-files -xf vocab.tgz\n",
        "!wget -q -nc {CHECKPOINT_URL}\n",
        "!tar --skip-old-files -xf weights_13.tgz"
      ],
      "execution_count": null,
      "outputs": []
    },
    {
      "cell_type": "code",
      "metadata": {
        "id": "VqLv60d39mGv"
      },
      "source": [
        "VOCAB_SIZE_SV = 20000 + 2 + 2\n",
        "MAX_SEQ_LEN_SV = 30 + 2\n",
        "\n",
        "tokenize_sv = tf.keras.layers.TextVectorization(\n",
        "    max_tokens=VOCAB_SIZE_SV - 2,\n",
        "    output_sequence_length=MAX_SEQ_LEN_SV - 2\n",
        ")"
      ],
      "execution_count": null,
      "outputs": []
    },
    {
      "cell_type": "code",
      "metadata": {
        "id": "uvyi0J7-6SOa"
      },
      "source": [
        "tokenize_sv. set_vocabulary(\"sv.txt\",)\n",
        "\n",
        "vocab_sv = tokenize_sv.get_vocabulary()"
      ],
      "execution_count": null,
      "outputs": []
    },
    {
      "cell_type": "code",
      "metadata": {
        "id": "uUEAG5fP9qvn"
      },
      "source": [
        "VOCAB_SIZE_EN = 20000 + 2 + 2\n",
        "MAX_SEQ_LEN_EN = 30 + 2\n",
        "\n",
        "tokenize_en = tf.keras.layers.TextVectorization(\n",
        "    max_tokens=VOCAB_SIZE_EN - 2,\n",
        "    output_sequence_length=MAX_SEQ_LEN_EN - 2\n",
        ")"
      ],
      "execution_count": null,
      "outputs": []
    },
    {
      "cell_type": "code",
      "metadata": {
        "id": "keyI9YfBWcDF"
      },
      "source": [
        "tokenize_en.set_vocabulary(\"en.txt\",)\n",
        "\n",
        "vocab_en = tokenize_en.get_vocabulary()"
      ],
      "execution_count": null,
      "outputs": []
    },
    {
      "cell_type": "code",
      "metadata": {
        "id": "SUBEWu77XUdN"
      },
      "source": [
        "model = create_model()\n",
        "\n",
        "model.load_weights(\"weights_13\").expect_partial();"
      ],
      "execution_count": null,
      "outputs": []
    },
    {
      "cell_type": "markdown",
      "metadata": {
        "id": "ptKI_ry6Ccpy"
      },
      "source": [
        "## Swedish-English Translator"
      ]
    },
    {
      "cell_type": "code",
      "metadata": {
        "id": "hqUyBOveBzqC"
      },
      "source": [
        "@tf.function\n",
        "def strip_padding(inputs):\n",
        "    padding_idx = tf.where(tf.equal(inputs, 0))\n",
        "    padding_idx = tf.squeeze(padding_idx, -1)\n",
        "    if tf.shape(padding_idx)[0] > 0:\n",
        "        return inputs[:padding_idx[0]]\n",
        "    else:\n",
        "        return inputs"
      ],
      "execution_count": null,
      "outputs": []
    },
    {
      "cell_type": "code",
      "metadata": {
        "id": "rW5v4WbOrfN6"
      },
      "source": [
        "class SvEnTranslator(tf.Module):\n",
        "\n",
        "    def __init__(self,\n",
        "                 model=model,\n",
        "                 tokenize_sv=tokenize_sv,\n",
        "                 name=\"sv_en_translator\"):\n",
        "        super().__init__(name=name)\n",
        "        self.model = model\n",
        "        self.tokenize_sv = tokenize_sv\n",
        "\n",
        "    @tf.function\n",
        "    def __call__(self, sv, max_loops=100):\n",
        "        sv_tokens = self.tokenize_sv(sv)\n",
        "        sv_tokens = add_start_end_sv(sv_tokens)\n",
        "\n",
        "        en_tokens = tf.TensorArray(tf.int64, 0, True)\n",
        "        en_tokens = en_tokens.write(0, SOS_TOKEN_EN)\n",
        "\n",
        "        for i in tf.range(max_loops):\n",
        "            y_pred, *_ = self.model.call2(\n",
        "                enc_inputs=tf.expand_dims(sv_tokens, 0),\n",
        "                dec_inputs=tf.expand_dims(en_tokens.stack(), 0)\n",
        "            )\n",
        "            y_pred = tf.squeeze(y_pred, 0)\n",
        "            predictions = tf.argmax(y_pred, -1)\n",
        "            en_tokens = en_tokens.write(i + 1, predictions[-1])\n",
        "            if predictions[-1] == EOS_TOKEN_EN:\n",
        "                break\n",
        "\n",
        "        (_, enc_block_1_attn_weights,\n",
        "            dec_block_1_attn_weights,\n",
        "            dec_block_2_attn_weights) = self.model.call2(\n",
        "                enc_inputs=tf.expand_dims(sv_tokens, 0),\n",
        "                dec_inputs=tf.expand_dims(en_tokens.stack()[:-1], 0)\n",
        "        )\n",
        "        enc_block_1_attn_weights = tf.squeeze(enc_block_1_attn_weights, 1)\n",
        "        dec_block_1_attn_weights = tf.squeeze(dec_block_1_attn_weights, 1)\n",
        "        dec_block_2_attn_weights = tf.squeeze(dec_block_2_attn_weights, 1)\n",
        "\n",
        "        sv_tokens = strip_padding(sv_tokens)\n",
        "        en_tokens = en_tokens.stack()\n",
        "\n",
        "        sv_words = detokenize_sv(sv_tokens)\n",
        "        en_words = detokenize_en(en_tokens)\n",
        "\n",
        "        return (sv_words, en_words,\n",
        "                enc_block_1_attn_weights,\n",
        "                dec_block_1_attn_weights,\n",
        "                dec_block_2_attn_weights)"
      ],
      "execution_count": null,
      "outputs": []
    },
    {
      "cell_type": "code",
      "metadata": {
        "id": "HtL4IWa48BeL"
      },
      "source": [
        "sv_en_translator = SvEnTranslator()"
      ],
      "execution_count": null,
      "outputs": []
    },
    {
      "cell_type": "code",
      "metadata": {
        "id": "_I0K9G7W6EO8"
      },
      "source": [
        "TRANSLATOR_DIR = f\"{PERSISTENT_DIR}/sv_en_translator\"\n",
        "\n",
        "!mkdir -p \"{TRANSLATOR_DIR}\""
      ],
      "execution_count": null,
      "outputs": []
    },
    {
      "cell_type": "code",
      "metadata": {
        "colab": {
          "base_uri": "https://localhost:8080/"
        },
        "id": "nIOBxItEzpju",
        "outputId": "019e1ce5-ced1-45d9-d58e-8da3a6799b38"
      },
      "source": [
        "tf.saved_model.save(\n",
        "    sv_en_translator,\n",
        "    TRANSLATOR_DIR,\n",
        "    sv_en_translator.__call__.get_concrete_function(\n",
        "        tf.TensorSpec((), tf.string)\n",
        "    )\n",
        ")"
      ],
      "execution_count": null,
      "outputs": [
        {
          "output_type": "stream",
          "name": "stdout",
          "text": [
            "WARNING:tensorflow:Skipping full serialization of Keras layer <__main__.Transformer object at 0x7fd7860a7c90>, because it is not built.\n"
          ]
        },
        {
          "output_type": "stream",
          "name": "stderr",
          "text": [
            "WARNING:absl:Found untraced functions such as call, encoder_layer_call_and_return_conditional_losses, encoder_layer_call_fn, decoder_layer_call_and_return_conditional_losses, decoder_layer_call_fn while saving (showing 5 of 816). These functions will not be directly callable after loading.\n"
          ]
        },
        {
          "output_type": "stream",
          "name": "stdout",
          "text": [
            "INFO:tensorflow:Assets written to: /content/drive/MyDrive/Colab Notebooks/attention-is-all-you-need/sv_en_translator/assets\n"
          ]
        },
        {
          "output_type": "stream",
          "name": "stderr",
          "text": [
            "INFO:tensorflow:Assets written to: /content/drive/MyDrive/Colab Notebooks/attention-is-all-you-need/sv_en_translator/assets\n"
          ]
        }
      ]
    },
    {
      "cell_type": "markdown",
      "metadata": {
        "id": "G-YO0yeNN8Ma"
      },
      "source": [
        "## Attention Plots"
      ]
    },
    {
      "cell_type": "code",
      "metadata": {
        "id": "A29oSkT0hJ-v"
      },
      "source": [
        "TRANSLATOR_URL = f\"{MODEL_BASE_URL}/sv_en_translator.tgz\"\n",
        "\n",
        "!wget -q -nc {TRANSLATOR_URL}\n",
        "!tar --skip-old-files -xf sv_en_translator.tgz"
      ],
      "execution_count": null,
      "outputs": []
    },
    {
      "cell_type": "code",
      "metadata": {
        "id": "eRd_VzSm3gKh"
      },
      "source": [
        "sv_en_translator = tf.saved_model.load(\"sv_en_translator\")"
      ],
      "execution_count": null,
      "outputs": []
    },
    {
      "cell_type": "code",
      "metadata": {
        "id": "M6uRU3khAgy5"
      },
      "source": [
        "plot_counter = 0"
      ],
      "execution_count": null,
      "outputs": []
    },
    {
      "cell_type": "code",
      "metadata": {
        "id": "KAAG6RwO2oL4"
      },
      "source": [
        "def plot_attn_weights(sv_words,\n",
        "                      en_words,\n",
        "                      dec_block_2_attn_weights,\n",
        "                      layer,\n",
        "                      head):\n",
        "    global plot_counter\n",
        "    plot_counter += 1\n",
        "\n",
        "    xticklabels = [w.decode(\"utf-8\") for w in sv_words.numpy()]\n",
        "    yticklabels = [w.decode(\"utf-8\") for w in en_words[1:].numpy()]\n",
        "\n",
        "    plt.figure(figsize=(8, 6))\n",
        "    plt.imshow(\n",
        "        dec_block_2_attn_weights[\n",
        "            layer - 1,\n",
        "            head - 1,\n",
        "            :,\n",
        "            :len(sv_words)\n",
        "        ],\n",
        "        cmap=\"viridis\",\n",
        "        interpolation=\"nearest\",\n",
        "        vmin=0,\n",
        "        vmax=1\n",
        "    )\n",
        "    plt.xticks(ticks=range(len(sv_words)),\n",
        "               labels=xticklabels,\n",
        "               fontsize=\"large\",\n",
        "               rotation=90)\n",
        "    plt.gca().xaxis.tick_top()\n",
        "    plt.yticks(ticks=range(len(en_words[1:])),\n",
        "               labels=yticklabels,\n",
        "               fontsize=\"large\")\n",
        "    plt.xlabel(f\"Layer {layer} / Head {head}\", fontsize=\"x-large\")\n",
        "    plt.colorbar()\n",
        "    plt.savefig(f\"attention_{plot_counter}.svg\", bbox_inches=\"tight\")"
      ],
      "execution_count": null,
      "outputs": []
    },
    {
      "cell_type": "code",
      "metadata": {
        "id": "-V8IasHB8KiX"
      },
      "source": [
        "def test_plot_attn_weights(sv, layer=4, head=8):\n",
        "    (sv_words, en_words,\n",
        "     enc_block_1_attn_weights,\n",
        "     dec_block_1_attn_weights,\n",
        "     dec_block_2_attn_weights) = sv_en_translator(sv)\n",
        "\n",
        "    tf.print(sv_words, summarize=-1)\n",
        "    tf.print(en_words, summarize=-1)\n",
        "    print(f\"sv_words shape: {sv_words.shape}\")\n",
        "    print(f\"en_words shape: {en_words.shape}\")\n",
        "    print(f\"enc_block_1_attn_weights shape:\"\n",
        "          f\" {enc_block_1_attn_weights.shape}\")\n",
        "    print(f\"dec_block_1_attn_weights shape:\"\n",
        "          f\" {dec_block_1_attn_weights.shape}\")\n",
        "    print(f\"dec_block_2_attn_weights shape:\"\n",
        "          f\" {dec_block_2_attn_weights.shape}\")\n",
        "\n",
        "    plot_attn_weights(sv_words,\n",
        "                      en_words,\n",
        "                      dec_block_2_attn_weights,\n",
        "                      layer,\n",
        "                      head)"
      ],
      "execution_count": null,
      "outputs": []
    },
    {
      "cell_type": "code",
      "metadata": {
        "id": "9frSShw5nkfb",
        "colab": {
          "base_uri": "https://localhost:8080/",
          "height": 634
        },
        "outputId": "fa8039e1-ebb1-4aa0-b250-d51d1f47f671"
      },
      "source": [
        "test_plot_attn_weights(\n",
        "    tf.constant(\n",
        "        \"Klimatförändringar utgör ett grundläggande hot\"\n",
        "        \" mot arter och samhällen – och även människors överlevnad.\"\n",
        "    )\n",
        ")"
      ],
      "execution_count": null,
      "outputs": [
        {
          "output_type": "stream",
          "name": "stdout",
          "text": [
            "[\"[SOS]\" \"klimatförändringar\" \"utgör\" \"ett\" \"grundläggande\" \"hot\" \"mot\" \"arter\" \"och\" \"samhällen\" \"–\" \"och\" \"även\" \"människors\" \"överlevnad\" \"[EOS]\"]\n",
            "[\"[SOS]\" \"climate\" \"change\" \"represents\" \"a\" \"fundamental\" \"threat\" \"to\" \"species\" \"and\" \"societies\" \"–\" \"and\" \"also\" \"the\" \"survival\" \"of\" \"human\" \"beings\" \"[EOS]\"]\n",
            "sv_words shape: (16,)\n",
            "en_words shape: (20,)\n",
            "enc_block_1_attn_weights shape: (4, 8, 32, 32)\n",
            "dec_block_1_attn_weights shape: (4, 8, 19, 19)\n",
            "dec_block_2_attn_weights shape: (4, 8, 19, 32)\n"
          ]
        },
        {
          "output_type": "display_data",
          "data": {
            "image/png": "[encoded data removed]",
            "text/plain": [
              "<Figure size 576x432 with 2 Axes>"
            ]
          },
          "metadata": {
            "needs_background": "light"
          }
        }
      ]
    },
    {
      "cell_type": "code",
      "metadata": {
        "colab": {
          "base_uri": "https://localhost:8080/",
          "height": 596
        },
        "id": "ra4vjPnu-a74",
        "outputId": "fd772174-09e2-4ff4-9c17-c24508fbc2d9"
      },
      "source": [
        "test_plot_attn_weights(\n",
        "    tf.constant(\n",
        "        \"Ett annat påtagligt problem\"\n",
        "        \" är att kvaliteten på vårt dricksvatten\"\n",
        "        \" i västvärlden inte är så bra som många tror.\"\n",
        "    )\n",
        ")"
      ],
      "execution_count": null,
      "outputs": [
        {
          "output_type": "stream",
          "name": "stdout",
          "text": [
            "[\"[SOS]\" \"ett\" \"annat\" \"påtagligt\" \"problem\" \"är\" \"att\" \"kvaliteten\" \"på\" \"vårt\" \"dricksvatten\" \"i\" \"västvärlden\" \"inte\" \"är\" \"så\" \"bra\" \"som\" \"många\" \"tror\" \"[EOS]\"]\n",
            "[\"[SOS]\" \"another\" \"obvious\" \"problem\" \"is\" \"that\" \"the\" \"quality\" \"of\" \"our\" \"water\" \"in\" \"the\" \"western\" \"world\" \"is\" \"not\" \"so\" \"good\" \"as\" \"many\" \"believe\" \"[EOS]\"]\n",
            "sv_words shape: (21,)\n",
            "en_words shape: (23,)\n",
            "enc_block_1_attn_weights shape: (4, 8, 32, 32)\n",
            "dec_block_1_attn_weights shape: (4, 8, 22, 22)\n",
            "dec_block_2_attn_weights shape: (4, 8, 22, 32)\n"
          ]
        },
        {
          "output_type": "display_data",
          "data": {
            "image/png": "[encoded data removed]",
            "text/plain": [
              "<Figure size 576x432 with 2 Axes>"
            ]
          },
          "metadata": {
            "needs_background": "light"
          }
        }
      ]
    },
    {
      "cell_type": "code",
      "metadata": {
        "id": "OllxgYW-EOab"
      },
      "source": [
        ""
      ],
      "execution_count": null,
      "outputs": []
    }
  ]
}